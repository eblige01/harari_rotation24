{
 "cells": [
  {
   "cell_type": "code",
   "execution_count": 1,
   "id": "821894ac-359f-49bb-92c8-f07874a11d76",
   "metadata": {},
   "outputs": [
    {
     "name": "stderr",
     "output_type": "stream",
     "text": [
      "\n",
      "Attaching package: ‘igraph’\n",
      "\n",
      "\n",
      "The following objects are masked from ‘package:stats’:\n",
      "\n",
      "    decompose, spectrum\n",
      "\n",
      "\n",
      "The following object is masked from ‘package:base’:\n",
      "\n",
      "    union\n",
      "\n",
      "\n",
      "\n",
      "Attaching package: ‘dplyr’\n",
      "\n",
      "\n",
      "The following objects are masked from ‘package:igraph’:\n",
      "\n",
      "    as_data_frame, groups, union\n",
      "\n",
      "\n",
      "The following objects are masked from ‘package:stats’:\n",
      "\n",
      "    filter, lag\n",
      "\n",
      "\n",
      "The following objects are masked from ‘package:base’:\n",
      "\n",
      "    intersect, setdiff, setequal, union\n",
      "\n",
      "\n",
      "Loading required package: ggplot2\n",
      "\n"
     ]
    }
   ],
   "source": [
    "library(igraph)\n",
    "library(dplyr)\n",
    "library(ggraph)"
   ]
  },
  {
   "cell_type": "code",
   "execution_count": 2,
   "id": "8d86c9ba-4166-49b0-ae15-0aa1d0fd9412",
   "metadata": {},
   "outputs": [],
   "source": [
    "modules <- read.csv(\"modules_micro3_AD.csv\")\n",
    "central_gene <- \"PSEN1\""
   ]
  },
  {
   "cell_type": "code",
   "execution_count": 3,
   "id": "dd431f38-590e-4f61-9947-3f167dc01359",
   "metadata": {},
   "outputs": [],
   "source": [
    "# Find the module associated with the central gene\n",
    "central_module <- modules %>%\n",
    "  filter(gene_name == central_gene) %>%\n",
    "  pull(module)"
   ]
  },
  {
   "cell_type": "code",
   "execution_count": 4,
   "id": "b33a7e53-4fa7-4861-86ce-d67f5b0a487e",
   "metadata": {},
   "outputs": [],
   "source": [
    "# Get all genes in the same module\n",
    "module_genes <- modules %>%\n",
    "  filter(module == central_module)"
   ]
  },
  {
   "cell_type": "code",
   "execution_count": 6,
   "id": "86a8b5ee-61d8-40b6-a7fc-6452fd715b11",
   "metadata": {},
   "outputs": [],
   "source": [
    "# Limit to top 20 genes by kME score (include PSEN1)\n",
    "top_genes <- module_genes %>%\n",
    "  arrange(desc(kME_micro_state3_AD3)) %>%\n",
    "  slice_head(n = 20)  # Adjust n as needed"
   ]
  },
  {
   "cell_type": "code",
   "execution_count": 7,
   "id": "5ddd8e37-10f5-44bc-9de0-33439588a661",
   "metadata": {},
   "outputs": [],
   "source": [
    "# Ensure PSEN1 is included in the top genes\n",
    "if (!central_gene %in% top_genes$gene_name) {\n",
    "  top_genes <- bind_rows(top_genes, module_genes %>% filter(gene_name == central_gene))\n",
    "}"
   ]
  },
  {
   "cell_type": "code",
   "execution_count": 8,
   "id": "404337b2-5668-4bd2-8270-64e2428b14ac",
   "metadata": {},
   "outputs": [],
   "source": [
    "# Filter edge list to include only top genes\n",
    "edge_list <- expand.grid(\n",
    "  from = top_genes$gene_name,\n",
    "  to = top_genes$gene_name\n",
    ") %>%\n",
    "  filter(from != to) %>%  # Exclude self-loops\n",
    "  mutate(weight = (top_genes$kME_micro_state3_AD3[match(from, top_genes$gene_name)] +\n",
    "                   top_genes$kME_micro_state3_AD3[match(to, top_genes$gene_name)]) / 2)  # Average kME as weight"
   ]
  },
  {
   "cell_type": "code",
   "execution_count": 9,
   "id": "2347ff44-e50b-40be-85ab-2eb7c35cc1cf",
   "metadata": {},
   "outputs": [],
   "source": [
    "# Ensure PSEN1 connections are retained\n",
    "filtered_edges_psen1 <- edge_list %>%\n",
    "  filter(from == \"PSEN1\" | to == \"PSEN1\")"
   ]
  },
  {
   "cell_type": "code",
   "execution_count": 10,
   "id": "b03fdee3-f2e8-4906-a93a-b91a24886eae",
   "metadata": {},
   "outputs": [],
   "source": [
    "# Combine PSEN1 edges and other edges above a threshold\n",
    "threshold <- 0.7  # Adjust the threshold as needed\n",
    "filtered_edges_subnetwork <- edge_list %>%\n",
    "  filter(weight > threshold)\n",
    "\n",
    "final_filtered_edges <- bind_rows(filtered_edges_psen1, filtered_edges_subnetwork)"
   ]
  },
  {
   "cell_type": "code",
   "execution_count": 11,
   "id": "d1e5be65-53df-46d5-b0b0-207aaea6772c",
   "metadata": {},
   "outputs": [],
   "source": [
    "# Create graph object using the filtered edge list\n",
    "network <- graph_from_data_frame(final_filtered_edges, directed = FALSE)"
   ]
  },
  {
   "cell_type": "code",
   "execution_count": 12,
   "id": "1815c40f-1dab-4314-8aa7-5d99c5a94eae",
   "metadata": {},
   "outputs": [
    {
     "data": {
      "text/html": [
       "<strong>png:</strong> 2"
      ],
      "text/latex": [
       "\\textbf{png:} 2"
      ],
      "text/markdown": [
       "**png:** 2"
      ],
      "text/plain": [
       "png \n",
       "  2 "
      ]
     },
     "metadata": {},
     "output_type": "display_data"
    }
   ],
   "source": [
    "# Save plot as a PDF\n",
    "pdf(\"PSEN1_network_plot_mic3_AD.pdf\", width = 10, height = 10)  # Specify file name and dimensions\n",
    "ggraph(network, layout = \"fr\") +  #Force-directed layout\n",
    "  geom_edge_link(aes(alpha = weight), color = \"blue\") +  # Scale thickness by weight\n",
    "  geom_node_point(aes(filter = name == central_gene), size = 7, color = \"red\") +  # Highlight central gene\n",
    "  geom_node_point(aes(filter = name != central_gene), size = 3, color = \"gray\") +\n",
    "  geom_node_text(aes(label = name), repel = TRUE, size = 4, color = \"black\", max.overlaps = 50) +\n",
    "  theme_void() +\n",
    "  ggtitle(paste(\"Reduced Network of cellstate 3\" ,central_module, \"Centered on\", central_gene)) +\n",
    "  theme(plot.margin = margin(30, 30, 30, 30))\n",
    "dev.off() "
   ]
  },
  {
   "cell_type": "code",
   "execution_count": null,
   "id": "b8587790-820a-4434-9e2e-7be3f909e108",
   "metadata": {},
   "outputs": [],
   "source": []
  }
 ],
 "metadata": {
  "kernelspec": {
   "display_name": "R",
   "language": "R",
   "name": "ir"
  },
  "language_info": {
   "codemirror_mode": "r",
   "file_extension": ".r",
   "mimetype": "text/x-r-source",
   "name": "R",
   "pygments_lexer": "r",
   "version": "4.0.5"
  }
 },
 "nbformat": 4,
 "nbformat_minor": 5
}
