{
 "cells": [
  {
   "cell_type": "code",
   "execution_count": 1,
   "id": "4fe4d30f-f793-498d-a6b0-1acb1f8ca67a",
   "metadata": {},
   "outputs": [],
   "source": [
    "humanlist <- c(\"acp2\",\"calsyntenin-1\",\"calsyntenin-2\",\"calsyntenin-3\",\"aplp1\",\"aplp2\",\"app\",\"axl\",\"bcma\",\"betacellulin\",\"betaglycan\",\"car\",\"cd147\",\"cd200\",\"cd43\",\"cd44\",\"cd99\",\"cx3cl1\",\"cxcl16\",\"desmoglein-2\",\"dner\",\"dr6\",\"dystroglycan\",\"e-cadherin\",\"epcam\",\"epha2\",\"epha5\",\"epha7\",\"ephb2\",\"ephb3\",\"ephb4\",\"ephb6\",\"ephrin-b2\",\"erbb4\",\"f11r\",\"fgfr4\",\"glg1\",\"hla-a2\",\"ifnar2\",\"igf-1r\",\"il11r\",\"il-1r1\",\"il-1r2\",\"il6r\",\"ir\",\"irela\",\"ilrelb\",\"jagged2\",\"kcne2\",\"kcne1\",\"klotho\",\"lar\",\"ldlr\",\"lrp1\",\"lrp1b\",\"lrp6\",\"mer\",\"met\",\"muc1\",\"musk\",\"n-cadherin\",\"neogenin\",\"neurexin-3-b\",\"NLRR3\",\"p75NTR\",\"pianp\",\"plxdc2\",\"pmel17\",\"pdpn\",\"polycystin-1\",\"polyductin\",\"protocadherin-12\",\"ptk7\",\"rage\",\"robo1\",\"sez6\",\"sez6l\",\"sez6l2\",\"sirpa\",\"sorcs1\",\"sorla\",\"sortilin\",\"synedecan-1\",\"synedecan-2\",\"synedecan-3\",\"tie1\",\"tmeff2\",\"tnfr1\",\"trem2\",\"trka\",\"tyro3\",\"vasorin\",\"vegfr3\")"
   ]
  },
  {
   "cell_type": "code",
   "execution_count": 2,
   "id": "0a13ef0a-208e-4129-809d-a2601cac1401",
   "metadata": {},
   "outputs": [
    {
     "name": "stderr",
     "output_type": "stream",
     "text": [
      "Possible Ensembl SSL connectivity problems detected.\n",
      "Please see the 'Connection Troubleshooting' section of the biomaRt vignette\n",
      "vignette('accessing_ensembl', package = 'biomaRt')Error in curl::curl_fetch_memory(url, handle = handle) : \n",
      "  SSL certificate problem: certificate has expired\n",
      "\n",
      "\n"
     ]
    }
   ],
   "source": [
    "# Load the biomaRt library\n",
    "library(biomaRt)"
   ]
  },
  {
   "cell_type": "code",
   "execution_count": 3,
   "id": "dd11be87-28ce-4017-ae78-2a8c65e23968",
   "metadata": {},
   "outputs": [
    {
     "ename": "ERROR",
     "evalue": "Error: Your query has been redirected to http://status.ensembl.org indicating this Ensembl service is currently unavailable\nLook at ?useEnsembl for details on how to try a mirror site.\n",
     "output_type": "error",
     "traceback": [
      "Error: Your query has been redirected to http://status.ensembl.org indicating this Ensembl service is currently unavailable\nLook at ?useEnsembl for details on how to try a mirror site.\nTraceback:\n",
      "1. useEnsembl(\"ensembl\", dataset = \"hsapiens_gene_ensembl\")",
      "2. .useMart(biomart = biomart, dataset = dataset, host = host, verbose = verbose, \n .     port = port, ensemblRedirect = ensemblRedirect)",
      "3. listMarts(host = host, path = path, port = port, includeHosts = TRUE, \n .     archive = archive)",
      "4. .listMarts(mart = mart, host = host, path = path, port = port, \n .     includeHosts = includeHosts, archive = archive, verbose = verbose, \n .     ensemblRedirect = TRUE)",
      "5. stop(\"Your query has been redirected to http://status.ensembl.org \", \n .     \"indicating this Ensembl service is currently unavailable\", \n .     \"\\nLook at ?useEnsembl for details on how to try a mirror site.\", \n .     call. = FALSE)"
     ]
    }
   ],
   "source": [
    "# Retry connecting to the Ensembl database\n",
    "ensembl <- useEnsembl(\"ensembl\", dataset = \"hsapiens_gene_ensembl\")"
   ]
  },
  {
   "cell_type": "code",
   "execution_count": null,
   "id": "b78f6f6d-f174-4c6a-a38e-e02b530c2e11",
   "metadata": {},
   "outputs": [],
   "source": [
    "results <- getBM(\n",
    "  attributes = c(\"uniprot_swissprot\", \"hgnc_symbol\"), # Attributes: UniProt ID and Gene Symbol\n",
    "  filters = \"uniprot_swissprot\",                      # Filter by UniProt IDs\n",
    "  values = humanlist,                                 # Input your list of UniProt IDs\n",
    "  mart = ensembl                                      # Use the Ensembl mart connection\n",
    ")"
   ]
  },
  {
   "cell_type": "code",
   "execution_count": null,
   "id": "7d5267bd-6371-437e-b6ec-246d19b52d89",
   "metadata": {},
   "outputs": [],
   "source": [
    "# View results\n",
    "print(results)"
   ]
  }
 ],
 "metadata": {
  "kernelspec": {
   "display_name": "R",
   "language": "R",
   "name": "ir"
  },
  "language_info": {
   "codemirror_mode": "r",
   "file_extension": ".r",
   "mimetype": "text/x-r-source",
   "name": "R",
   "pygments_lexer": "r",
   "version": "4.0.5"
  }
 },
 "nbformat": 4,
 "nbformat_minor": 5
}
