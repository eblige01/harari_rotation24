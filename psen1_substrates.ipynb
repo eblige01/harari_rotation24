{
 "cells": [
  {
   "cell_type": "code",
   "execution_count": 1,
   "id": "03d23b0d-f6ed-4bab-98b8-5bf0792cfe26",
   "metadata": {},
   "outputs": [],
   "source": [
    "library(biomaRt)"
   ]
  },
  {
   "cell_type": "code",
   "execution_count": 2,
   "id": "7b407c0d-3d42-42fd-991a-6f3a6788eee9",
   "metadata": {},
   "outputs": [],
   "source": [
    "humanlist <- c(\"acp2\",\"calsyntenin-1\",\"calsyntenin-2\",\"calsyntenin-3\",\"aplp1\",\"aplp2\",\"app\",\"axl\",\"bcma\",\"betacellulin\",\"betaglycan\",\"car\",\"cd147\",\"cd200\",\"cd43\",\"cd44\",\"cd99\",\"cx3cl1\",\"cxcl16\",\"desmoglein-2\",\"dner\",\"dr6\",\"dystroglycan\",\"e-cadherin\",\"epcam\",\"epha2\",\"epha5\",\"epha7\",\"ephb2\",\"ephb3\",\"ephb4\",\"ephb6\",\"ephrin-b2\",\"erbb4\",\"f11r\",\"fgfr4\",\"glg1\",\"hla-a2\",\"ifnar2\",\"igf-1r\",\"il11r\",\"il-1r1\",\"il-1r2\",\"il6r\",\"ir\",\"irela\",\"ilrelb\",\"jagged2\",\"kcne2\",\"kcne1\",\"klotho\",\"lar\",\"ldlr\",\"lrp1\",\"lrp1b\",\"lrp6\",\"mer\",\"met\",\"muc1\",\"musk\",\"n-cadherin\",\"neogenin\",\"neurexin-3-b\",\"NLRR3\",\"p75NTR\",\"pianp\",\"plxdc2\",\"pmel17\",\"pdpn\",\"polycystin-1\",\"polyductin\",\"protocadherin-12\",\"ptk7\",\"rage\",\"robo1\",\"sez6\",\"sez6l\",\"sez6l2\",\"sirpa\",\"sorcs1\",\"sorla\",\"sortilin\",\"synedecan-1\",\"synedecan-2\",\"synedecan-3\",\"tie1\",\"tmeff2\",\"tnfr1\",\"trem2\",\"trka\",\"tyro3\",\"vasorin\",\"vegfr3\")"
   ]
  },
  {
   "cell_type": "code",
   "execution_count": 4,
   "id": "0886b1f5-f0ec-4b30-8d44-6ab060afcc8f",
   "metadata": {},
   "outputs": [],
   "source": [
    "ensembl <- useEnsembl(\"ensembl\", dataset = \"hsapiens_gene_ensembl\", host = \"https://useast.ensembl.org\")\n"
   ]
  },
  {
   "cell_type": "code",
   "execution_count": 15,
   "id": "036047a6-9fe5-41a7-bc61-324af837fbda",
   "metadata": {},
   "outputs": [],
   "source": [
    "# Converts protien names to UniprotIDs\n",
    "results <- getBM(\n",
    "  attributes = c(\"hgnc_symbol\",\"uniprotswissprot\"), # Attributes: UniProt ID and Gene Symbol\n",
    "  filters = \"hgnc_symbol\",                      # Filter by UniProt IDs\n",
    "  values = humanlist,                                 # Input your list of UniProt IDs\n",
    "  mart = ensembl                                      # Use the Ensembl mart connection\n",
    ")"
   ]
  },
  {
   "cell_type": "code",
   "execution_count": 18,
   "id": "8915b29e-4915-4255-83fc-49df6c567786",
   "metadata": {},
   "outputs": [],
   "source": [
    "# View results\n",
    "human_genes <- unique(results$hgnc_symbol)"
   ]
  },
  {
   "cell_type": "code",
   "execution_count": 19,
   "id": "8ede8cef-9aff-4752-b39d-bd2f78a4a293",
   "metadata": {},
   "outputs": [
    {
     "data": {
      "text/html": [
       "<style>\n",
       ".list-inline {list-style: none; margin:0; padding: 0}\n",
       ".list-inline>li {display: inline-block}\n",
       ".list-inline>li:not(:last-child)::after {content: \"\\00b7\"; padding: 0 .5ex}\n",
       "</style>\n",
       "<ol class=list-inline><li>'LRP6'</li><li>'CD99'</li><li>'PLXDC2'</li><li>'KCNE1'</li><li>'IFNAR2'</li><li>'APP'</li><li>'KCNE2'</li><li>'CX3CL1'</li><li>'GLG1'</li><li>'LRP1B'</li><li>'LRP1'</li><li>'TMEFF2'</li><li>'PTK7'</li><li>'AXL'</li><li>'EPHB4'</li><li>'SIRPA'</li><li>'EPHB6'</li><li>'MUSK'</li><li>'SEZ6L'</li><li>'EPHA5'</li><li>'FGFR4'</li><li>'EPHA7'</li><li>'PIANP'</li><li>'SORCS1'</li><li>'SEZ6L2'</li><li>'SEZ6'</li><li>'TYRO3'</li><li>'MET'</li><li>'CD44'</li><li>'EPHB2'</li><li>'ROBO1'</li><li>'CXCL16'</li><li>'PDPN'</li><li>'APLP2'</li><li>'ACP2'</li><li>'TREM2'</li><li>'EPCAM'</li><li>'LDLR'</li><li>'MUC1'</li><li>'ERBB4'</li><li>'APLP1'</li><li>'EPHB3'</li><li>'DNER'</li><li>'IL6R'</li><li>'CD200'</li><li>'F11R'</li><li>'TIE1'</li><li>'EPHA2'</li></ol>\n"
      ],
      "text/latex": [
       "\\begin{enumerate*}\n",
       "\\item 'LRP6'\n",
       "\\item 'CD99'\n",
       "\\item 'PLXDC2'\n",
       "\\item 'KCNE1'\n",
       "\\item 'IFNAR2'\n",
       "\\item 'APP'\n",
       "\\item 'KCNE2'\n",
       "\\item 'CX3CL1'\n",
       "\\item 'GLG1'\n",
       "\\item 'LRP1B'\n",
       "\\item 'LRP1'\n",
       "\\item 'TMEFF2'\n",
       "\\item 'PTK7'\n",
       "\\item 'AXL'\n",
       "\\item 'EPHB4'\n",
       "\\item 'SIRPA'\n",
       "\\item 'EPHB6'\n",
       "\\item 'MUSK'\n",
       "\\item 'SEZ6L'\n",
       "\\item 'EPHA5'\n",
       "\\item 'FGFR4'\n",
       "\\item 'EPHA7'\n",
       "\\item 'PIANP'\n",
       "\\item 'SORCS1'\n",
       "\\item 'SEZ6L2'\n",
       "\\item 'SEZ6'\n",
       "\\item 'TYRO3'\n",
       "\\item 'MET'\n",
       "\\item 'CD44'\n",
       "\\item 'EPHB2'\n",
       "\\item 'ROBO1'\n",
       "\\item 'CXCL16'\n",
       "\\item 'PDPN'\n",
       "\\item 'APLP2'\n",
       "\\item 'ACP2'\n",
       "\\item 'TREM2'\n",
       "\\item 'EPCAM'\n",
       "\\item 'LDLR'\n",
       "\\item 'MUC1'\n",
       "\\item 'ERBB4'\n",
       "\\item 'APLP1'\n",
       "\\item 'EPHB3'\n",
       "\\item 'DNER'\n",
       "\\item 'IL6R'\n",
       "\\item 'CD200'\n",
       "\\item 'F11R'\n",
       "\\item 'TIE1'\n",
       "\\item 'EPHA2'\n",
       "\\end{enumerate*}\n"
      ],
      "text/markdown": [
       "1. 'LRP6'\n",
       "2. 'CD99'\n",
       "3. 'PLXDC2'\n",
       "4. 'KCNE1'\n",
       "5. 'IFNAR2'\n",
       "6. 'APP'\n",
       "7. 'KCNE2'\n",
       "8. 'CX3CL1'\n",
       "9. 'GLG1'\n",
       "10. 'LRP1B'\n",
       "11. 'LRP1'\n",
       "12. 'TMEFF2'\n",
       "13. 'PTK7'\n",
       "14. 'AXL'\n",
       "15. 'EPHB4'\n",
       "16. 'SIRPA'\n",
       "17. 'EPHB6'\n",
       "18. 'MUSK'\n",
       "19. 'SEZ6L'\n",
       "20. 'EPHA5'\n",
       "21. 'FGFR4'\n",
       "22. 'EPHA7'\n",
       "23. 'PIANP'\n",
       "24. 'SORCS1'\n",
       "25. 'SEZ6L2'\n",
       "26. 'SEZ6'\n",
       "27. 'TYRO3'\n",
       "28. 'MET'\n",
       "29. 'CD44'\n",
       "30. 'EPHB2'\n",
       "31. 'ROBO1'\n",
       "32. 'CXCL16'\n",
       "33. 'PDPN'\n",
       "34. 'APLP2'\n",
       "35. 'ACP2'\n",
       "36. 'TREM2'\n",
       "37. 'EPCAM'\n",
       "38. 'LDLR'\n",
       "39. 'MUC1'\n",
       "40. 'ERBB4'\n",
       "41. 'APLP1'\n",
       "42. 'EPHB3'\n",
       "43. 'DNER'\n",
       "44. 'IL6R'\n",
       "45. 'CD200'\n",
       "46. 'F11R'\n",
       "47. 'TIE1'\n",
       "48. 'EPHA2'\n",
       "\n",
       "\n"
      ],
      "text/plain": [
       " [1] \"LRP6\"   \"CD99\"   \"PLXDC2\" \"KCNE1\"  \"IFNAR2\" \"APP\"    \"KCNE2\"  \"CX3CL1\"\n",
       " [9] \"GLG1\"   \"LRP1B\"  \"LRP1\"   \"TMEFF2\" \"PTK7\"   \"AXL\"    \"EPHB4\"  \"SIRPA\" \n",
       "[17] \"EPHB6\"  \"MUSK\"   \"SEZ6L\"  \"EPHA5\"  \"FGFR4\"  \"EPHA7\"  \"PIANP\"  \"SORCS1\"\n",
       "[25] \"SEZ6L2\" \"SEZ6\"   \"TYRO3\"  \"MET\"    \"CD44\"   \"EPHB2\"  \"ROBO1\"  \"CXCL16\"\n",
       "[33] \"PDPN\"   \"APLP2\"  \"ACP2\"   \"TREM2\"  \"EPCAM\"  \"LDLR\"   \"MUC1\"   \"ERBB4\" \n",
       "[41] \"APLP1\"  \"EPHB3\"  \"DNER\"   \"IL6R\"   \"CD200\"  \"F11R\"   \"TIE1\"   \"EPHA2\" "
      ]
     },
     "metadata": {},
     "output_type": "display_data"
    }
   ],
   "source": [
    "human_genes"
   ]
  },
  {
   "cell_type": "code",
   "execution_count": 7,
   "id": "106cd193-013a-4182-a55c-29651318a8ac",
   "metadata": {},
   "outputs": [],
   "source": [
    "attributes <- listAttributes(ensembl)"
   ]
  },
  {
   "cell_type": "code",
   "execution_count": 14,
   "id": "e17278e3-f3db-4af0-a3ff-442c93ee639f",
   "metadata": {},
   "outputs": [
    {
     "data": {
      "text/html": [
       "<table class=\"dataframe\">\n",
       "<caption>A data.frame: 7 × 3</caption>\n",
       "<thead>\n",
       "\t<tr><th></th><th scope=col>name</th><th scope=col>description</th><th scope=col>page</th></tr>\n",
       "\t<tr><th></th><th scope=col>&lt;chr&gt;</th><th scope=col>&lt;chr&gt;</th><th scope=col>&lt;chr&gt;</th></tr>\n",
       "</thead>\n",
       "<tbody>\n",
       "\t<tr><th scope=row>97</th><td>uniprot_gn_id    </td><td>UniProtKB Gene Name ID    </td><td>feature_page</td></tr>\n",
       "\t<tr><th scope=row>98</th><td>uniprot_gn_symbol</td><td>UniProtKB Gene Name symbol</td><td>feature_page</td></tr>\n",
       "\t<tr><th scope=row>99</th><td>uniprot_isoform  </td><td>UniProtKB isoform ID      </td><td>feature_page</td></tr>\n",
       "\t<tr><th scope=row>100</th><td>uniprotswissprot </td><td>UniProtKB/Swiss-Prot ID   </td><td>feature_page</td></tr>\n",
       "\t<tr><th scope=row>101</th><td>uniprotsptrembl  </td><td>UniProtKB/TrEMBL ID       </td><td>feature_page</td></tr>\n",
       "\t<tr><th scope=row>3129</th><td>uniprotswissprot </td><td>UniProtKB/Swiss-Prot ID   </td><td>sequences   </td></tr>\n",
       "\t<tr><th scope=row>3130</th><td>uniprotsptrembl  </td><td>UniProtKB/TrEMBL ID       </td><td>sequences   </td></tr>\n",
       "</tbody>\n",
       "</table>\n"
      ],
      "text/latex": [
       "A data.frame: 7 × 3\n",
       "\\begin{tabular}{r|lll}\n",
       "  & name & description & page\\\\\n",
       "  & <chr> & <chr> & <chr>\\\\\n",
       "\\hline\n",
       "\t97 & uniprot\\_gn\\_id     & UniProtKB Gene Name ID     & feature\\_page\\\\\n",
       "\t98 & uniprot\\_gn\\_symbol & UniProtKB Gene Name symbol & feature\\_page\\\\\n",
       "\t99 & uniprot\\_isoform   & UniProtKB isoform ID       & feature\\_page\\\\\n",
       "\t100 & uniprotswissprot  & UniProtKB/Swiss-Prot ID    & feature\\_page\\\\\n",
       "\t101 & uniprotsptrembl   & UniProtKB/TrEMBL ID        & feature\\_page\\\\\n",
       "\t3129 & uniprotswissprot  & UniProtKB/Swiss-Prot ID    & sequences   \\\\\n",
       "\t3130 & uniprotsptrembl   & UniProtKB/TrEMBL ID        & sequences   \\\\\n",
       "\\end{tabular}\n"
      ],
      "text/markdown": [
       "\n",
       "A data.frame: 7 × 3\n",
       "\n",
       "| <!--/--> | name &lt;chr&gt; | description &lt;chr&gt; | page &lt;chr&gt; |\n",
       "|---|---|---|---|\n",
       "| 97 | uniprot_gn_id     | UniProtKB Gene Name ID     | feature_page |\n",
       "| 98 | uniprot_gn_symbol | UniProtKB Gene Name symbol | feature_page |\n",
       "| 99 | uniprot_isoform   | UniProtKB isoform ID       | feature_page |\n",
       "| 100 | uniprotswissprot  | UniProtKB/Swiss-Prot ID    | feature_page |\n",
       "| 101 | uniprotsptrembl   | UniProtKB/TrEMBL ID        | feature_page |\n",
       "| 3129 | uniprotswissprot  | UniProtKB/Swiss-Prot ID    | sequences    |\n",
       "| 3130 | uniprotsptrembl   | UniProtKB/TrEMBL ID        | sequences    |\n",
       "\n"
      ],
      "text/plain": [
       "     name              description                page        \n",
       "97   uniprot_gn_id     UniProtKB Gene Name ID     feature_page\n",
       "98   uniprot_gn_symbol UniProtKB Gene Name symbol feature_page\n",
       "99   uniprot_isoform   UniProtKB isoform ID       feature_page\n",
       "100  uniprotswissprot  UniProtKB/Swiss-Prot ID    feature_page\n",
       "101  uniprotsptrembl   UniProtKB/TrEMBL ID        feature_page\n",
       "3129 uniprotswissprot  UniProtKB/Swiss-Prot ID    sequences   \n",
       "3130 uniprotsptrembl   UniProtKB/TrEMBL ID        sequences   "
      ]
     },
     "metadata": {},
     "output_type": "display_data"
    }
   ],
   "source": [
    "attributes[grep(\"uniprot\", attributes$name), ]"
   ]
  },
  {
   "cell_type": "code",
   "execution_count": null,
   "id": "4b539bde-e10a-4bb6-afaa-87db278b3dfb",
   "metadata": {},
   "outputs": [],
   "source": []
  }
 ],
 "metadata": {
  "kernelspec": {
   "display_name": "R",
   "language": "R",
   "name": "ir"
  },
  "language_info": {
   "codemirror_mode": "r",
   "file_extension": ".r",
   "mimetype": "text/x-r-source",
   "name": "R",
   "pygments_lexer": "r",
   "version": "4.3.3"
  }
 },
 "nbformat": 4,
 "nbformat_minor": 5
}
