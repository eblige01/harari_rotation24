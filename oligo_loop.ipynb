{
 "cells": [
  {
   "cell_type": "code",
   "execution_count": null,
   "id": "bf7787a9-6167-467c-816b-40d6c5b920cd",
   "metadata": {},
   "outputs": [],
   "source": [
    "library(biomaRt)\n",
    "library(dplyr)\n",
    "library(readr)\n",
    "library(readxl)\n",
    "library(venn)\n",
    "library(ggplot2)\n",
    "library(sf)\n",
    "library(ggVennDiagram)"
   ]
  },
  {
   "cell_type": "code",
   "execution_count": null,
   "id": "39c8efe9-8f8c-4151-91f6-b3f4f96dbd5a",
   "metadata": {},
   "outputs": [],
   "source": [
    "humanlist <- c(\"acp2\",\"calsyntenin-1\",\"calsyntenin-2\",\"calsyntenin-3\",\"aplp1\",\"aplp2\",\"app\",\"axl\",\"bcma\",\"betacellulin\",\"betaglycan\",\"car\",\"cd147\",\"cd200\",\"cd43\",\"cd44\",\"cd99\",\"cx3cl1\",\"cxcl16\",\"desmoglein-2\",\"dner\",\"dr6\",\"dystroglycan\",\"e-cadherin\",\"epcam\",\"epha2\",\"epha5\",\"epha7\",\"ephb3\",\"ephb4\",\"ephb6\",\"ephrin-b2\",\"erbb4\",\"f11r\",\"fgfr4\",\"glg1\",\"hla-a2\",\"ifnar2\",\"igf-1r\",\"il11r\",\"il-1r1\",\"il-1r2\",\"il6r\",\"ir\",\"irela\",\"ilrelb\",\"jagged2\",\"kcne2\",\"kcne1\",\"klotho\",\"lar\",\"ldlr\",\"lrp1\",\"lrp1b\",\"lrp6\",\"mer\",\"met\",\"muc1\",\"musk\",\"n-cadherin\",\"neogenin\",\"neurexin-3-b\",\"NLRR3\",\"p75NTR\",\"pianp\",\"plxdc2\",\"pmel17\",\"pdpn\",\"polycystin-1\",\"polyductin\",\"protocadherin-12\",\"ptk7\",\"rage\",\"robo1\",\"sez6\",\"sez6l\",\"sez6l2\",\"sirpa\",\"sorcs1\",\"sorla\",\"sortilin\",\"synedecan-1\",\"synedecan-2\",\"synedecan-3\",\"tie1\",\"tmeff2\",\"tnfr1\",\"trem2\",\"trka\",\"tyro3\",\"vasorin\",\"vegfr3\")"
   ]
  },
  {
   "cell_type": "code",
   "execution_count": null,
   "id": "866a24d4-352d-490b-9c8d-59c6e23c95bb",
   "metadata": {},
   "outputs": [],
   "source": [
    "mouselist <- c(\"apoER2\",\"CACHD1\",\"CADM1\",\"CSF1R\",\"Delta1\",\"dscam\",\"dscaml1\",\"ephb2\",\"ephrin-b2\",\"fgfr3\",\"ghr\",\"l1\",\"nectin1a\",\"nectin3\",\"ng2\",\"notch1\",\"notch2\",\"notch3\",\"notch4\",\"nprc\",\"nradd\",\"pianp\",\"prima\",\"pvrl2\",\"sez6\",\"tkrB\",\"trop2\",\"tyrp1\",\"tyrp2\",\"vgscb1\",\"vgscb2\",\"vgscb3\",\"vgscb4\",\"vldlr\")"
   ]
  },
  {
   "cell_type": "code",
   "execution_count": null,
   "id": "cd864428-2151-400e-8ed3-5feb8abbb39d",
   "metadata": {},
   "outputs": [],
   "source": [
    "mouse_mart <- useEnsembl(\"ensembl\", dataset = \"mmusculus_gene_ensembl\")\n",
    "     "
   ]
  },
  {
   "cell_type": "code",
   "execution_count": null,
   "id": "f9d3915b-f50a-458d-b233-9bc7ee1f48ff",
   "metadata": {},
   "outputs": [],
   "source": [
    "# Get UniProt IDs for these proteins\n",
    "uniprot_mouse <- getBM(attributes = c(\"uniprotswissprot\", \"mgi_symbol\"),\n",
    "                      filters = \"external_gene_name\",\n",
    "                      values = mouselist,\n",
    "                      mart = mouse_mart)\n",
    "\n",
    "     \n",
    "\n",
    "mouse_ids <- uniprot_mouse$uniprotswissprot\n",
    "     \n",
    "\n",
    "uniprot_mouse <- getBM(attributes = c(\"uniprotswissprot\", \"mgi_symbol\"),\n",
    "                      filters = \"uniprotswissprot\",\n",
    "                      values = mouse_ids,\n",
    "                      mart = mouse_mart)\n"
   ]
  },
  {
   "cell_type": "code",
   "execution_count": null,
   "id": "e4260815-58d4-420a-a8a1-0bfecff41f0d",
   "metadata": {},
   "outputs": [],
   "source": [
    "mouse_genes <- uniprot_mouse$mgi_symbol\n",
    "     \n",
    "\n",
    "mapping <- read.delim(\"HMD_HumanPhenotype.rpt\", header = FALSE)\n",
    "     \n",
    "\n",
    "colnames(mapping) <- c(\"Human_Gene\",\"hum_num\", \"Mouse_Gene\", \"Mouse_MGI_ID\", \"HPO_Term\",\"last\")\n",
    "     \n",
    "\n",
    "result <- mapping %>%\n",
    "  filter(Mouse_Gene %in% mouse_genes) %>%\n",
    "  select(Mouse_Gene, Human_Gene)\n",
    "     \n",
    "\n",
    "converted_mouse <- result$Human_Gene\n",
    "     \n",
    "\n",
    "ensembl <- useEnsembl(\"ensembl\", dataset = \"hsapiens_gene_ensembl\")\n",
    "\n",
    "     \n",
    "\n",
    "# Fetches hgnc_symbol and unirpot ID\n",
    "results_hum <- getBM(\n",
    "  attributes = c(\"hgnc_symbol\",\"uniprotswissprot\"), # Attributes: UniProt ID and Gene Symbol\n",
    "  filters = \"hgnc_symbol\",                      # Filter by UniProt IDs\n",
    "  values = humanlist,                                 # Input your list of UniProt IDs\n",
    "  mart = ensembl                                      # Use the Ensembl mart connection\n",
    ")\n",
    "     \n",
    "\n",
    "human_genes <- results_hum$hgnc_symbol\n",
    "     \n",
    "\n",
    "human_genes <-c(human_genes,mouse_genes)\n",
    "     \n",
    "     "
   ]
  },
  {
   "cell_type": "code",
   "execution_count": null,
   "id": "1f3bb844-b3e0-4cda-be41-a062c2436065",
   "metadata": {},
   "outputs": [],
   "source": [
    "ad_genes <- read_excel(\"AD_genes.xlsx\", col_names = FALSE)"
   ]
  },
  {
   "cell_type": "code",
   "execution_count": null,
   "id": "68a3259f-4766-4fed-b99a-a912a5e9263b",
   "metadata": {},
   "outputs": [],
   "source": [
    "ad_genes <- ad_genes$\"...1\""
   ]
  },
  {
   "cell_type": "code",
   "execution_count": null,
   "id": "aaca3684-d7d3-465b-a076-5d6d030ffc5e",
   "metadata": {},
   "outputs": [],
   "source": [
    "gene_sets <- list(\n",
    "  \"AD Genes\" = ad_genes,\n",
    "  \"Module Genes\" = module_genes,\n",
    "  \"PSEN1 substrates\" = human_genes\n",
    ")\n"
   ]
  },
  {
   "cell_type": "code",
   "execution_count": null,
   "id": "b32f168a-1fec-40b7-896d-8a07b57fe843",
   "metadata": {},
   "outputs": [],
   "source": [
    "\n",
    "# Create Venn Diagram with custom colors\n",
    "venn <- ggVennDiagram(\n",
    "  gene_sets,\n",
    "  label = \"both\" # Show both counts and genes\n",
    ") +\n",
    "  # Adjust fill colors for better contrast\n",
    "  scale_fill_gradient(low = \"grey\", high = \"lightblue\") +\n",
    "  # Adjust outline colors for clarity\n",
    "  scale_color_manual(values = c(\"black\", \"black\", \"black\")) +\n",
    "  # Tweak theme for visibility\n",
    "  theme(\n",
    "    legend.position = \"none\", # Remove legend\n",
    "    panel.background = element_rect(fill = \"white\"), # White background\n",
    "    plot.background = element_rect(fill = \"white\")  # White plot background\n",
    "  )\n",
    "     "
   ]
  },
  {
   "cell_type": "code",
   "execution_count": null,
   "id": "e041b51f-5bf5-4f7c-baf4-c713376187f3",
   "metadata": {},
   "outputs": [],
   "source": [
    "ad_module <- intersect(module_genes,human_genes)\n",
    "print(ad_module)"
   ]
  },
  {
   "cell_type": "code",
   "execution_count": null,
   "id": "367f04a2-146f-44ef-8b1d-3bd40a5a5ce8",
   "metadata": {},
   "outputs": [],
   "source": [
    "csv_filepaths <- c(\"oligo_modules/oligoState0.csv\", \"oligo_modules/oligoState0.csv\", \"oligo_modules/oligoState0.csv\",\"oligo_modules/oligoState0.csv\",\"oligo_modules/oligoState0.csv\",\"oligo_modules/oligoState0.csv\",\"oligo_modules/oligoState0.csv\",\"oligo_modules/oligoState7 (1).csv\",\"oligo_modules/oligoState8 (1).csv\")"
   ]
  },
  {
   "cell_type": "code",
   "execution_count": null,
   "id": "4f01475b-3450-4b74-9580-bd6ff6195734",
   "metadata": {},
   "outputs": [],
   "source": [
    "psen1_module <- df$Module[df$Gene == \"PSEN1\"]\n",
    "subset_df <- df[df$Module == psen1_module, ]"
   ]
  }
 ],
 "metadata": {
  "kernelspec": {
   "display_name": "R",
   "language": "R",
   "name": "ir"
  },
  "language_info": {
   "codemirror_mode": "r",
   "file_extension": ".r",
   "mimetype": "text/x-r-source",
   "name": "R",
   "pygments_lexer": "r",
   "version": "4.3.3"
  }
 },
 "nbformat": 4,
 "nbformat_minor": 5
}
