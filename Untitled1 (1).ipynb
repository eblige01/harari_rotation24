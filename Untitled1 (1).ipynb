{
 "cells": [
  {
   "cell_type": "code",
   "execution_count": 5,
   "id": "0e588d89-d814-4eae-abd4-176233d88270",
   "metadata": {},
   "outputs": [
    {
     "name": "stderr",
     "output_type": "stream",
     "text": [
      "Warning message:\n",
      "“\u001b[1m\u001b[22mThe `slot` argument of `GetAssayData()` is deprecated as of SeuratObject 5.0.0.\n",
      "\u001b[36mℹ\u001b[39m Please use the `layer` argument instead.”\n",
      "Warning message in asMethod(object):\n",
      "“sparse->dense coercion: allocating vector of size 9.9 GiB”\n",
      "Warning message in asMethod(object):\n",
      "“sparse->dense coercion: allocating vector of size 5.7 GiB”\n",
      "Warning message in asMethod(object):\n",
      "“sparse->dense coercion: allocating vector of size 5.3 GiB”\n",
      "Warning message in asMethod(object):\n",
      "“sparse->dense coercion: allocating vector of size 3.9 GiB”\n",
      "Warning message in asMethod(object):\n",
      "“sparse->dense coercion: allocating vector of size 2.5 GiB”\n",
      "Warning message in asMethod(object):\n",
      "“sparse->dense coercion: allocating vector of size 1.6 GiB”\n",
      "Warning message in asMethod(object):\n",
      "“sparse->dense coercion: allocating vector of size 1.6 GiB”\n"
     ]
    }
   ],
   "source": [
    "library(Seurat)\n",
    "\n",
    "# plotting and data science packages\n",
    "library(tidyverse)\n",
    "library(cowplot)\n",
    "library(patchwork)\n",
    "library(devtools)\n",
    "\n",
    "\n",
    "# co-expression network analysis packages:\n",
    "library(WGCNA)\n",
    "library(hdWGCNA)\n",
    "\n",
    "\n",
    "oligoState0 <- readRDS(\"/users/PAS2694/eblige2/Oligo_Object_1.rds\")\n",
    "oligoState1 <- readRDS(\"/users/PAS2694/eblige2/Oligo_Object_2.rds\")\n",
    "oligoState2 <- readRDS(\"/users/PAS2694/eblige2/Oligo_Object_3.rds\")\n",
    "oligoState3 <- readRDS(\"/users/PAS2694/eblige2/Oligo_Object_4.rds\")\n",
    "oligoState4 <- readRDS(\"/users/PAS2694/eblige2/Oligo_Object_5.rds\")\n",
    "oligoState5 <- readRDS(\"/users/PAS2694/eblige2/Oligo_Object_6.rds\")\n",
    "oligoState6 <- readRDS(\"/users/PAS2694/eblige2/Oligo_Object_7.rds\")\n",
    "oligoState7 <- readRDS(\"/users/PAS2694/eblige2/Oligo_Object_8.rds\")\n",
    "oligoState8 <- readRDS(\"/users/PAS2694/eblige2/Oligo_Object_9.rds\")\n",
    "\n",
    "expr_data0 <- as.data.frame(GetAssayData(oligoState0, slot = \"data\"))\n",
    "expr_data1 <- as.data.frame(GetAssayData(oligoState1, slot = \"data\"))\n",
    "expr_data2 <- as.data.frame(GetAssayData(oligoState2, slot = \"data\"))\n",
    "expr_data3 <- as.data.frame(GetAssayData(oligoState3, slot = \"data\"))\n",
    "expr_data4 <- as.data.frame(GetAssayData(oligoState4, slot = \"data\"))\n",
    "expr_data5 <- as.data.frame(GetAssayData(oligoState5, slot = \"data\"))\n",
    "expr_data6 <- as.data.frame(GetAssayData(oligoState6, slot = \"data\"))\n",
    "expr_data7 <- as.data.frame(GetAssayData(oligoState7, slot = \"data\"))\n",
    "expr_data8 <- as.data.frame(GetAssayData(oligoState8, slot = \"data\"))\n",
    "\n",
    "assay0 <- write.csv(expr_data0,file = \"/users/PAS2694/eblige2/oligo_objects/Oligo_assay0\")\n",
    "assay1 <- write.csv(expr_data1,file = \"/users/PAS2694/eblige2/oligo_objects/Oligo_assay1\")\n",
    "assay2 <- write.csv(expr_data2,file = \"/users/PAS2694/eblige2/oligo_objects/Oligo_assay2\")\n",
    "assay3 <- write.csv(expr_data3,file = \"/users/PAS2694/eblige2/oligo_objects/Oligo_assay3\")\n",
    "assay4 <- write.csv(expr_data4,file = \"/users/PAS2694/eblige2/oligo_objects/Oligo_assay4\")\n",
    "assay5 <- write.csv(expr_data5,file = \"/users/PAS2694/eblige2/oligo_objects/Oligo_assay5\")\n",
    "assay6 <- write.csv(expr_data6,file = \"/users/PAS2694/eblige2/oligo_objects/Oligo_assay6\")\n",
    "assay7 <- write.csv(expr_data7,file = \"/users/PAS2694/eblige2/oligo_objects/Oligo_assay7\")\n",
    "assay8 <- write.csv(expr_data8,file = \"/users/PAS2694/eblige2/oligo_objects/Oligo_assay8\")\n",
    "\n",
    "write.csv(  GetModules(oligoState0),file = \"/users/PAS2694/eblige2/oligo_objects/oligoState0.csv\")\n",
    "write.csv(  GetModules(oligoState1),file = \"/users/PAS2694/eblige2/oligo_objects/oligoState1.csv\")\n",
    "write.csv(  GetModules(oligoState2),file = \"/users/PAS2694/eblige2/oligo_objects/oligoState2.csv\")\n",
    "write.csv(  GetModules(oligoState3),file = \"/users/PAS2694/eblige2/oligo_objects/oligoState3.csv\")\n",
    "write.csv(  GetModules(oligoState4),file = \"/users/PAS2694/eblige2/oligo_objects/oligoState4.csv\")\n",
    "write.csv(  GetModules(oligoState5),file = \"/users/PAS2694/eblige2/oligo_objects/oligoState5.csv\")\n",
    "write.csv(  GetModules(oligoState6),file = \"/users/PAS2694/eblige2/oligo_objects/oligoState6.csv\")\n",
    "write.csv(  GetModules(oligoState7),file = \"/users/PAS2694/eblige2/oligo_objects/oligoState7.csv\")\n",
    "write.csv(  GetModules(oligoState8),file = \"/users/PAS2694/eblige2/oligo_objects/oligoState8.csv\")\n"
   ]
  },
  {
   "cell_type": "code",
   "execution_count": null,
   "id": "98a6ba4e-a1ba-472a-ac8a-dca0d995fbad",
   "metadata": {},
   "outputs": [],
   "source": []
  },
  {
   "cell_type": "code",
   "execution_count": null,
   "id": "bfd4421d-e290-4fc0-910b-f039c60458aa",
   "metadata": {},
   "outputs": [],
   "source": []
  }
 ],
 "metadata": {
  "kernelspec": {
   "display_name": "hdWGCNA",
   "language": "R",
   "name": "hdwgcna"
  },
  "language_info": {
   "codemirror_mode": "r",
   "file_extension": ".r",
   "mimetype": "text/x-r-source",
   "name": "R",
   "pygments_lexer": "r",
   "version": "4.3.1"
  }
 },
 "nbformat": 4,
 "nbformat_minor": 5
}
