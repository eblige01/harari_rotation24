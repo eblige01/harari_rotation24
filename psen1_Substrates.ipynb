{
 "cells": [
  {
   "cell_type": "code",
   "execution_count": 1,
   "id": "03d23b0d-f6ed-4bab-98b8-5bf0792cfe26",
   "metadata": {},
   "outputs": [
    {
     "name": "stderr",
     "output_type": "stream",
     "text": [
      "\n",
      "Attaching package: ‘dplyr’\n",
      "\n",
      "\n",
      "The following object is masked from ‘package:biomaRt’:\n",
      "\n",
      "    select\n",
      "\n",
      "\n",
      "The following objects are masked from ‘package:stats’:\n",
      "\n",
      "    filter, lag\n",
      "\n",
      "\n",
      "The following objects are masked from ‘package:base’:\n",
      "\n",
      "    intersect, setdiff, setequal, union\n",
      "\n",
      "\n"
     ]
    }
   ],
   "source": [
    "library(biomaRt)\n",
    "library(dplyr)\n",
    "library(readr)"
   ]
  },
  {
   "cell_type": "code",
   "execution_count": 2,
   "id": "7b407c0d-3d42-42fd-991a-6f3a6788eee9",
   "metadata": {},
   "outputs": [],
   "source": [
    "humanlist <- c(\"acp2\",\"calsyntenin-1\",\"calsyntenin-2\",\"calsyntenin-3\",\"aplp1\",\"aplp2\",\"app\",\"axl\",\"bcma\",\"betacellulin\",\"betaglycan\",\"car\",\"cd147\",\"cd200\",\"cd43\",\"cd44\",\"cd99\",\"cx3cl1\",\"cxcl16\",\"desmoglein-2\",\"dner\",\"dr6\",\"dystroglycan\",\"e-cadherin\",\"epcam\",\"epha2\",\"epha5\",\"epha7\",\"ephb3\",\"ephb4\",\"ephb6\",\"ephrin-b2\",\"erbb4\",\"f11r\",\"fgfr4\",\"glg1\",\"hla-a2\",\"ifnar2\",\"igf-1r\",\"il11r\",\"il-1r1\",\"il-1r2\",\"il6r\",\"ir\",\"irela\",\"ilrelb\",\"jagged2\",\"kcne2\",\"kcne1\",\"klotho\",\"lar\",\"ldlr\",\"lrp1\",\"lrp1b\",\"lrp6\",\"mer\",\"met\",\"muc1\",\"musk\",\"n-cadherin\",\"neogenin\",\"neurexin-3-b\",\"NLRR3\",\"p75NTR\",\"pianp\",\"plxdc2\",\"pmel17\",\"pdpn\",\"polycystin-1\",\"polyductin\",\"protocadherin-12\",\"ptk7\",\"rage\",\"robo1\",\"sez6\",\"sez6l\",\"sez6l2\",\"sirpa\",\"sorcs1\",\"sorla\",\"sortilin\",\"synedecan-1\",\"synedecan-2\",\"synedecan-3\",\"tie1\",\"tmeff2\",\"tnfr1\",\"trem2\",\"trka\",\"tyro3\",\"vasorin\",\"vegfr3\")"
   ]
  },
  {
   "cell_type": "code",
   "execution_count": 3,
   "id": "29958d38-6016-4cf0-b309-7e7e3b38f18c",
   "metadata": {},
   "outputs": [],
   "source": [
    "mouselist <- c(\"apoER2\",\"CACHD1\",\"CADM1\",\"CSF1R\",\"Delta1\",\"dscam\",\"dscaml1\",\"ephb2\",\"ephrin-b2\",\"fgfr3\",\"ghr\",\"l1\",\"nectin1a\",\"nectin3\",\"ng2\",\"notch1\",\"notch2\",\"notch3\",\"notch4\",\"nprc\",\"nradd\",\"pianp\",\"prima\",\"pvrl2\",\"sez6\",\"tkrB\",\"trop2\",\"tyrp1\",\"tyrp2\",\"vgscb1\",\"vgscb2\",\"vgscb3\",\"vgscb4\",\"vldlr\")"
   ]
  },
  {
   "cell_type": "code",
   "execution_count": 9,
   "id": "b2918d59-9050-4acf-872c-15cd49a433cf",
   "metadata": {},
   "outputs": [],
   "source": [
    "mouse_mart <- useEnsembl(\"ensembl\", dataset = \"mmusculus_gene_ensembl\",host = \"useast.ensembl.org\")"
   ]
  },
  {
   "cell_type": "code",
   "execution_count": 10,
   "id": "6041fc37-55a5-48bd-9515-92a7f75075b8",
   "metadata": {},
   "outputs": [],
   "source": [
    "# Get UniProt IDs for these proteins\n",
    "uniprot_mouse <- getBM(attributes = c(\"uniprotswissprot\", \"mgi_symbol\"),\n",
    "                      filters = \"external_gene_name\",\n",
    "                      values = mouselist,\n",
    "                      mart = mouse_mart)\n"
   ]
  },
  {
   "cell_type": "code",
   "execution_count": 11,
   "id": "a9034ccf-7d73-46c5-98cc-adbba3ab05dd",
   "metadata": {},
   "outputs": [],
   "source": [
    "mouse_ids <- uniprot_mouse$uniprotswissprot"
   ]
  },
  {
   "cell_type": "code",
   "execution_count": 12,
   "id": "ccde69d0-d714-40d7-b3c7-a68eb3024a60",
   "metadata": {},
   "outputs": [],
   "source": [
    "uniprot_mouse <- getBM(attributes = c(\"uniprotswissprot\", \"mgi_symbol\"),\n",
    "                      filters = \"uniprotswissprot\",\n",
    "                      values = mouse_ids,\n",
    "                      mart = mouse_mart)\n"
   ]
  },
  {
   "cell_type": "code",
   "execution_count": 13,
   "id": "b210b7e6-d016-4b07-9981-17c3b28a264d",
   "metadata": {},
   "outputs": [],
   "source": [
    "mouse_genes <- uniprot_mouse$mgi_symbol"
   ]
  },
  {
   "cell_type": "code",
   "execution_count": 14,
   "id": "006c8efd-fb3c-4d3a-9a3e-a92b62d636a3",
   "metadata": {},
   "outputs": [],
   "source": [
    "mapping <- read.delim(\"HMD_HumanPhenotype.rpt\", header = FALSE)"
   ]
  },
  {
   "cell_type": "code",
   "execution_count": 15,
   "id": "6bb4dbaf-4b54-4d4b-a0de-26078907aaa6",
   "metadata": {},
   "outputs": [],
   "source": [
    "colnames(mapping) <- c(\"Human_Gene\",\"hum_num\", \"Mouse_Gene\", \"Mouse_MGI_ID\", \"HPO_Term\",\"last\")"
   ]
  },
  {
   "cell_type": "code",
   "execution_count": 16,
   "id": "1b54529b-3966-4782-896b-1b7e804fa2da",
   "metadata": {},
   "outputs": [],
   "source": [
    "result <- mapping %>%\n",
    "  filter(Mouse_Gene %in% mouse_genes) %>%\n",
    "  select(Mouse_Gene, Human_Gene)"
   ]
  },
  {
   "cell_type": "code",
   "execution_count": 17,
   "id": "833685a5-6de4-4762-978f-83fe3b87ca48",
   "metadata": {},
   "outputs": [],
   "source": [
    "converted_mouse <- result$Human_Gene"
   ]
  },
  {
   "cell_type": "code",
   "execution_count": 18,
   "id": "0886b1f5-f0ec-4b30-8d44-6ab060afcc8f",
   "metadata": {},
   "outputs": [],
   "source": [
    "ensembl <- useEnsembl(\"ensembl\", dataset = \"hsapiens_gene_ensembl\", host = \"https://useast.ensembl.org\")\n"
   ]
  },
  {
   "cell_type": "code",
   "execution_count": 19,
   "id": "036047a6-9fe5-41a7-bc61-324af837fbda",
   "metadata": {},
   "outputs": [],
   "source": [
    "# Fetches hgnc_symbol and unirpot ID\n",
    "results_hum <- getBM(\n",
    "  attributes = c(\"hgnc_symbol\",\"uniprotswissprot\"), # Attributes: UniProt ID and Gene Symbol\n",
    "  filters = \"hgnc_symbol\",                      # Filter by UniProt IDs\n",
    "  values = humanlist,                                 # Input your list of UniProt IDs\n",
    "  mart = ensembl                                      # Use the Ensembl mart connection\n",
    ")"
   ]
  },
  {
   "cell_type": "code",
   "execution_count": 21,
   "id": "cbb0b8a6-3c91-42ac-be92-9ad6f0232415",
   "metadata": {},
   "outputs": [],
   "source": [
    "human_genes <- results_hum$hgnc_symbol"
   ]
  },
  {
   "cell_type": "code",
   "execution_count": 23,
   "id": "1f5ba643-8368-47cf-8449-789d6e9f38a3",
   "metadata": {},
   "outputs": [],
   "source": [
    "human_genes <-c(human_genes,mouse_genes)"
   ]
  },
  {
   "cell_type": "code",
   "execution_count": 25,
   "id": "8a92b61b-ae83-48b8-9da9-a1578fc96144",
   "metadata": {},
   "outputs": [],
   "source": [
    "# Retriving module 1 from mic-3 since its the only microglia cell state that assigned PSEN1 to a module"
   ]
  },
  {
   "cell_type": "code",
   "execution_count": 26,
   "id": "02708707-119d-4802-b437-6cd224ef259e",
   "metadata": {},
   "outputs": [],
   "source": [
    "modules <- read.csv(\"microstate3_modules.csv\")\n",
    "modules <- subset(modules, module == \"micro1\")"
   ]
  },
  {
   "cell_type": "code",
   "execution_count": 27,
   "id": "3de617a4-2c79-4fe7-97bb-243b8dfc7476",
   "metadata": {
    "scrolled": true
   },
   "outputs": [
    {
     "data": {
      "text/html": [
       "<table class=\"dataframe\">\n",
       "<caption>A data.frame: 2476 × 10</caption>\n",
       "<thead>\n",
       "\t<tr><th></th><th scope=col>gene_name</th><th scope=col>module</th><th scope=col>color</th><th scope=col>kME_grey</th><th scope=col>kME_micro1</th><th scope=col>kME_micro2</th><th scope=col>kME_micro3</th><th scope=col>kME_micro4</th><th scope=col>kME_micro5</th><th scope=col>kME_micro6</th></tr>\n",
       "\t<tr><th></th><th scope=col>&lt;chr&gt;</th><th scope=col>&lt;chr&gt;</th><th scope=col>&lt;chr&gt;</th><th scope=col>&lt;dbl&gt;</th><th scope=col>&lt;dbl&gt;</th><th scope=col>&lt;dbl&gt;</th><th scope=col>&lt;dbl&gt;</th><th scope=col>&lt;dbl&gt;</th><th scope=col>&lt;dbl&gt;</th><th scope=col>&lt;dbl&gt;</th></tr>\n",
       "</thead>\n",
       "<tbody>\n",
       "\t<tr><th scope=row>1</th><td>AL669831.5</td><td>micro1</td><td>turquoise</td><td>0.21548615</td><td>0.19759714</td><td> 0.16136541</td><td> 0.12941490</td><td>0.17119379</td><td>0.145077531</td><td> 0.046423244</td></tr>\n",
       "\t<tr><th scope=row>3</th><td>INTS11    </td><td>micro1</td><td>turquoise</td><td>0.09696439</td><td>0.09533079</td><td> 0.06297456</td><td> 0.06963743</td><td>0.06518315</td><td>0.094385586</td><td> 0.066102929</td></tr>\n",
       "\t<tr><th scope=row>5</th><td>SLC35E2B  </td><td>micro1</td><td>turquoise</td><td>0.12806585</td><td>0.12348601</td><td> 0.09901677</td><td> 0.05368261</td><td>0.11732960</td><td>0.067810146</td><td> 0.027891017</td></tr>\n",
       "\t<tr><th scope=row>7</th><td>SLC35E2A  </td><td>micro1</td><td>turquoise</td><td>0.09733040</td><td>0.12928621</td><td> 0.05753553</td><td> 0.04001120</td><td>0.08556635</td><td>0.032732457</td><td>-0.011421935</td></tr>\n",
       "\t<tr><th scope=row>8</th><td>NADK      </td><td>micro1</td><td>turquoise</td><td>0.11942740</td><td>0.16027853</td><td> 0.05077375</td><td> 0.04094430</td><td>0.09030611</td><td>0.124785534</td><td> 0.022551881</td></tr>\n",
       "\t<tr><th scope=row>10</th><td>CFAP74    </td><td>micro1</td><td>turquoise</td><td>0.07441513</td><td>0.08557692</td><td> 0.05595365</td><td>-0.01330175</td><td>0.09994148</td><td>0.001779519</td><td>-0.029470397</td></tr>\n",
       "\t<tr><th scope=row>13</th><td>MORN1     </td><td>micro1</td><td>turquoise</td><td>0.05722561</td><td>0.06019965</td><td> 0.04808820</td><td> 0.02155694</td><td>0.08230194</td><td>0.032214528</td><td>-0.007509752</td></tr>\n",
       "\t<tr><th scope=row>15</th><td>TNFRSF14  </td><td>micro1</td><td>turquoise</td><td>0.11220602</td><td>0.11903512</td><td> 0.07703686</td><td> 0.05483505</td><td>0.08161141</td><td>0.094138670</td><td> 0.089482045</td></tr>\n",
       "\t<tr><th scope=row>16</th><td>CEP104    </td><td>micro1</td><td>turquoise</td><td>0.10945018</td><td>0.09528290</td><td> 0.08672772</td><td> 0.06460826</td><td>0.11559400</td><td>0.029898061</td><td> 0.048579051</td></tr>\n",
       "\t<tr><th scope=row>17</th><td>KCNAB2    </td><td>micro1</td><td>turquoise</td><td>0.15590792</td><td>0.15803664</td><td> 0.12224532</td><td> 0.08353429</td><td>0.13793060</td><td>0.111611566</td><td> 0.060850862</td></tr>\n",
       "\t<tr><th scope=row>25</th><td>RERE      </td><td>micro1</td><td>turquoise</td><td>0.43562255</td><td>0.53197670</td><td> 0.27049260</td><td> 0.18552907</td><td>0.42436473</td><td>0.359439936</td><td> 0.057825336</td></tr>\n",
       "\t<tr><th scope=row>28</th><td>H6PD      </td><td>micro1</td><td>turquoise</td><td>0.13652492</td><td>0.16846826</td><td> 0.07491647</td><td> 0.08951089</td><td>0.08359078</td><td>0.155954205</td><td> 0.031927470</td></tr>\n",
       "\t<tr><th scope=row>30</th><td>PIK3CD    </td><td>micro1</td><td>turquoise</td><td>0.23364749</td><td>0.23790517</td><td> 0.15650652</td><td> 0.07714088</td><td>0.23707824</td><td>0.107266225</td><td> 0.024983806</td></tr>\n",
       "\t<tr><th scope=row>31</th><td>CLSTN1    </td><td>micro1</td><td>turquoise</td><td>0.19256744</td><td>0.17785048</td><td> 0.17095817</td><td> 0.07968406</td><td>0.17273871</td><td>0.078678632</td><td> 0.055007122</td></tr>\n",
       "\t<tr><th scope=row>33</th><td>UBE4B     </td><td>micro1</td><td>turquoise</td><td>0.24230636</td><td>0.29931420</td><td> 0.12306091</td><td> 0.07659716</td><td>0.21023763</td><td>0.204104827</td><td> 0.013031337</td></tr>\n",
       "\t<tr><th scope=row>34</th><td>KIF1B     </td><td>micro1</td><td>turquoise</td><td>0.23043536</td><td>0.29913384</td><td> 0.09946599</td><td> 0.05905461</td><td>0.20058339</td><td>0.210045761</td><td> 0.027433229</td></tr>\n",
       "\t<tr><th scope=row>35</th><td>PGD       </td><td>micro1</td><td>turquoise</td><td>0.13532240</td><td>0.16791688</td><td> 0.06227795</td><td> 0.04811773</td><td>0.10242900</td><td>0.119215106</td><td>-0.017416334</td></tr>\n",
       "\t<tr><th scope=row>38</th><td>AGTRAP    </td><td>micro1</td><td>turquoise</td><td>0.13188554</td><td>0.18511258</td><td> 0.05914352</td><td> 0.05065254</td><td>0.10290259</td><td>0.129371922</td><td> 0.131779914</td></tr>\n",
       "\t<tr><th scope=row>39</th><td>MTHFR     </td><td>micro1</td><td>turquoise</td><td>0.16015170</td><td>0.19860455</td><td> 0.08083026</td><td> 0.07515972</td><td>0.12007529</td><td>0.139944009</td><td> 0.010410128</td></tr>\n",
       "\t<tr><th scope=row>43</th><td>VPS13D    </td><td>micro1</td><td>turquoise</td><td>0.35687320</td><td>0.42527738</td><td> 0.15767974</td><td> 0.20407776</td><td>0.29832248</td><td>0.344424959</td><td> 0.055308506</td></tr>\n",
       "\t<tr><th scope=row>44</th><td>DHRS3     </td><td>micro1</td><td>turquoise</td><td>0.16350221</td><td>0.25486897</td><td> 0.06251523</td><td> 0.03000825</td><td>0.16608318</td><td>0.155364259</td><td> 0.032402538</td></tr>\n",
       "\t<tr><th scope=row>47</th><td>KAZN      </td><td>micro1</td><td>turquoise</td><td>0.08779438</td><td>0.12073762</td><td> 0.03607001</td><td> 0.01282045</td><td>0.05937170</td><td>0.096487192</td><td> 0.025271585</td></tr>\n",
       "\t<tr><th scope=row>48</th><td>TMEM51    </td><td>micro1</td><td>turquoise</td><td>0.18997589</td><td>0.25784166</td><td> 0.08409868</td><td> 0.07510142</td><td>0.14674903</td><td>0.189607667</td><td> 0.044483662</td></tr>\n",
       "\t<tr><th scope=row>49</th><td>EFHD2     </td><td>micro1</td><td>turquoise</td><td>0.18951202</td><td>0.20093136</td><td> 0.12406704</td><td> 0.12297063</td><td>0.16818364</td><td>0.144385725</td><td> 0.090916986</td></tr>\n",
       "\t<tr><th scope=row>50</th><td>DNAJC16   </td><td>micro1</td><td>turquoise</td><td>0.13092964</td><td>0.13835690</td><td> 0.05497696</td><td> 0.06143518</td><td>0.09351335</td><td>0.111207365</td><td> 0.030897163</td></tr>\n",
       "\t<tr><th scope=row>51</th><td>DDI2      </td><td>micro1</td><td>turquoise</td><td>0.25907850</td><td>0.30321260</td><td> 0.11741446</td><td> 0.11467443</td><td>0.22205642</td><td>0.204387816</td><td> 0.020307816</td></tr>\n",
       "\t<tr><th scope=row>52</th><td>FBXO42    </td><td>micro1</td><td>turquoise</td><td>0.25986320</td><td>0.27934649</td><td> 0.14453789</td><td> 0.13033428</td><td>0.22974785</td><td>0.170592288</td><td> 0.046293957</td></tr>\n",
       "\t<tr><th scope=row>56</th><td>PADI2     </td><td>micro1</td><td>turquoise</td><td>0.15048772</td><td>0.33450619</td><td>-0.03887293</td><td>-0.05375943</td><td>0.12687762</td><td>0.221745535</td><td>-0.042848264</td></tr>\n",
       "\t<tr><th scope=row>57</th><td>RCC2      </td><td>micro1</td><td>turquoise</td><td>0.24727247</td><td>0.24645001</td><td> 0.13957419</td><td> 0.14210561</td><td>0.20043373</td><td>0.211033782</td><td> 0.051332449</td></tr>\n",
       "\t<tr><th scope=row>59</th><td>IGSF21    </td><td>micro1</td><td>turquoise</td><td>0.40486778</td><td>0.44932765</td><td> 0.28119419</td><td> 0.18522344</td><td>0.40349531</td><td>0.286026841</td><td> 0.051257327</td></tr>\n",
       "\t<tr><th scope=row>⋮</th><td>⋮</td><td>⋮</td><td>⋮</td><td>⋮</td><td>⋮</td><td>⋮</td><td>⋮</td><td>⋮</td><td>⋮</td><td>⋮</td></tr>\n",
       "\t<tr><th scope=row>4762</th><td>MIR99AHG  </td><td>micro1</td><td>turquoise</td><td>0.3528514</td><td>0.48255153</td><td>0.150328810</td><td>0.122550584</td><td>0.32997721</td><td>0.34625163</td><td> 0.04883799</td></tr>\n",
       "\t<tr><th scope=row>4767</th><td>GABPA     </td><td>micro1</td><td>turquoise</td><td>0.1364129</td><td>0.16446132</td><td>0.105397401</td><td>0.058472224</td><td>0.13497340</td><td>0.11491658</td><td> 0.05322289</td></tr>\n",
       "\t<tr><th scope=row>4770</th><td>TIAM1     </td><td>micro1</td><td>turquoise</td><td>0.2553980</td><td>0.32182755</td><td>0.134352167</td><td>0.092057793</td><td>0.26097872</td><td>0.18332575</td><td>-0.00251357</td></tr>\n",
       "\t<tr><th scope=row>4774</th><td>IFNGR2    </td><td>micro1</td><td>turquoise</td><td>0.3523665</td><td>0.38307850</td><td>0.218886252</td><td>0.212393661</td><td>0.30229108</td><td>0.31715935</td><td> 0.12014015</td></tr>\n",
       "\t<tr><th scope=row>4776</th><td>ITSN1     </td><td>micro1</td><td>turquoise</td><td>0.2166923</td><td>0.30625463</td><td>0.089799031</td><td>0.061666788</td><td>0.17277011</td><td>0.19741328</td><td> 0.03961549</td></tr>\n",
       "\t<tr><th scope=row>4778</th><td>HLCS      </td><td>micro1</td><td>turquoise</td><td>0.1834685</td><td>0.19509982</td><td>0.117795077</td><td>0.089741536</td><td>0.15419297</td><td>0.14008249</td><td> 0.03503194</td></tr>\n",
       "\t<tr><th scope=row>4779</th><td>TTC3      </td><td>micro1</td><td>turquoise</td><td>0.3542885</td><td>0.30974598</td><td>0.301785151</td><td>0.192835925</td><td>0.33869077</td><td>0.20327215</td><td> 0.15116387</td></tr>\n",
       "\t<tr><th scope=row>4781</th><td>AP001043.1</td><td>micro1</td><td>turquoise</td><td>0.1023948</td><td>0.16445981</td><td>0.018356744</td><td>0.064741315</td><td>0.07064073</td><td>0.15953202</td><td> 0.04469136</td></tr>\n",
       "\t<tr><th scope=row>4782</th><td>BRWD1     </td><td>micro1</td><td>turquoise</td><td>0.3673038</td><td>0.44998002</td><td>0.199149934</td><td>0.178997186</td><td>0.30422071</td><td>0.32558156</td><td> 0.07037184</td></tr>\n",
       "\t<tr><th scope=row>4786</th><td>ABCG1     </td><td>micro1</td><td>turquoise</td><td>0.1562165</td><td>0.24251143</td><td>0.002564399</td><td>0.058176978</td><td>0.09539506</td><td>0.21347364</td><td> 0.01374183</td></tr>\n",
       "\t<tr><th scope=row>4787</th><td>SLC37A1   </td><td>micro1</td><td>turquoise</td><td>0.2091142</td><td>0.21276236</td><td>0.129977614</td><td>0.113684532</td><td>0.20744524</td><td>0.14640065</td><td> 0.05954010</td></tr>\n",
       "\t<tr><th scope=row>4788</th><td>PDE9A     </td><td>micro1</td><td>turquoise</td><td>0.1214303</td><td>0.18405545</td><td>0.036729215</td><td>0.017189305</td><td>0.11334874</td><td>0.11847406</td><td>-0.04604579</td></tr>\n",
       "\t<tr><th scope=row>4794</th><td>PFKL      </td><td>micro1</td><td>turquoise</td><td>0.1658633</td><td>0.18477283</td><td>0.127155293</td><td>0.103088229</td><td>0.14505528</td><td>0.15143693</td><td> 0.09652115</td></tr>\n",
       "\t<tr><th scope=row>4800</th><td>SLC19A1   </td><td>micro1</td><td>turquoise</td><td>0.1550554</td><td>0.14369699</td><td>0.142118163</td><td>0.077131031</td><td>0.14214734</td><td>0.09421733</td><td> 0.09276885</td></tr>\n",
       "\t<tr><th scope=row>4801</th><td>PCBP3     </td><td>micro1</td><td>turquoise</td><td>0.1127911</td><td>0.08581055</td><td>0.100706331</td><td>0.043611625</td><td>0.11000255</td><td>0.04247622</td><td> 0.01426459</td></tr>\n",
       "\t<tr><th scope=row>4802</th><td>MCM3AP    </td><td>micro1</td><td>turquoise</td><td>0.2271169</td><td>0.23079567</td><td>0.164287483</td><td>0.113890718</td><td>0.20667705</td><td>0.16529264</td><td> 0.06091519</td></tr>\n",
       "\t<tr><th scope=row>4803</th><td>PCNT      </td><td>micro1</td><td>turquoise</td><td>0.1456476</td><td>0.13755716</td><td>0.113870886</td><td>0.052590234</td><td>0.13318620</td><td>0.06806803</td><td> 0.04381837</td></tr>\n",
       "\t<tr><th scope=row>4804</th><td>DIP2A     </td><td>micro1</td><td>turquoise</td><td>0.2782148</td><td>0.30832423</td><td>0.197714575</td><td>0.122483904</td><td>0.26451442</td><td>0.20337252</td><td> 0.03830346</td></tr>\n",
       "\t<tr><th scope=row>4806</th><td>MT-ND1    </td><td>micro1</td><td>turquoise</td><td>0.2426464</td><td>0.30508059</td><td>0.177048166</td><td>0.039509455</td><td>0.20233277</td><td>0.16889559</td><td> 0.16868477</td></tr>\n",
       "\t<tr><th scope=row>4807</th><td>MT-ND2    </td><td>micro1</td><td>turquoise</td><td>0.2207383</td><td>0.30145703</td><td>0.145814320</td><td>0.010562289</td><td>0.18261490</td><td>0.15415791</td><td> 0.16205995</td></tr>\n",
       "\t<tr><th scope=row>4808</th><td>MT-CO1    </td><td>micro1</td><td>turquoise</td><td>0.2490520</td><td>0.21573860</td><td>0.314747133</td><td>0.063496772</td><td>0.27228587</td><td>0.07715693</td><td> 0.18231262</td></tr>\n",
       "\t<tr><th scope=row>4809</th><td>MT-CO2    </td><td>micro1</td><td>turquoise</td><td>0.2764727</td><td>0.32367944</td><td>0.233543397</td><td>0.030508135</td><td>0.25823619</td><td>0.14050101</td><td> 0.18503601</td></tr>\n",
       "\t<tr><th scope=row>4810</th><td>MT-ATP6   </td><td>micro1</td><td>turquoise</td><td>0.2690035</td><td>0.29850660</td><td>0.267459401</td><td>0.055693453</td><td>0.26238819</td><td>0.13735902</td><td> 0.21020559</td></tr>\n",
       "\t<tr><th scope=row>4811</th><td>MT-CO3    </td><td>micro1</td><td>turquoise</td><td>0.2809054</td><td>0.35067268</td><td>0.210664388</td><td>0.039067134</td><td>0.24915590</td><td>0.16658994</td><td> 0.18161486</td></tr>\n",
       "\t<tr><th scope=row>4812</th><td>MT-ND3    </td><td>micro1</td><td>turquoise</td><td>0.2381362</td><td>0.35680890</td><td>0.114291709</td><td>0.016936499</td><td>0.18776619</td><td>0.19551897</td><td> 0.14030521</td></tr>\n",
       "\t<tr><th scope=row>4813</th><td>MT-ND4L   </td><td>micro1</td><td>turquoise</td><td>0.1587491</td><td>0.23995148</td><td>0.077743464</td><td>0.011652773</td><td>0.12284062</td><td>0.13769902</td><td> 0.08180354</td></tr>\n",
       "\t<tr><th scope=row>4814</th><td>MT-ND4    </td><td>micro1</td><td>turquoise</td><td>0.2404787</td><td>0.30974468</td><td>0.211230351</td><td>0.004315327</td><td>0.23569875</td><td>0.13491903</td><td> 0.16465144</td></tr>\n",
       "\t<tr><th scope=row>4815</th><td>MT-ND5    </td><td>micro1</td><td>turquoise</td><td>0.2506765</td><td>0.25428782</td><td>0.236294841</td><td>0.058422824</td><td>0.25705370</td><td>0.09333635</td><td> 0.12299333</td></tr>\n",
       "\t<tr><th scope=row>4816</th><td>MT-CYB    </td><td>micro1</td><td>turquoise</td><td>0.2599586</td><td>0.29266288</td><td>0.246401046</td><td>0.056572794</td><td>0.24552184</td><td>0.13942697</td><td> 0.20444788</td></tr>\n",
       "\t<tr><th scope=row>4817</th><td>AL592183.1</td><td>micro1</td><td>turquoise</td><td>0.1891936</td><td>0.21870166</td><td>0.114398045</td><td>0.079336686</td><td>0.15525697</td><td>0.15270537</td><td> 0.04226974</td></tr>\n",
       "</tbody>\n",
       "</table>\n"
      ],
      "text/latex": [
       "A data.frame: 2476 × 10\n",
       "\\begin{tabular}{r|llllllllll}\n",
       "  & gene\\_name & module & color & kME\\_grey & kME\\_micro1 & kME\\_micro2 & kME\\_micro3 & kME\\_micro4 & kME\\_micro5 & kME\\_micro6\\\\\n",
       "  & <chr> & <chr> & <chr> & <dbl> & <dbl> & <dbl> & <dbl> & <dbl> & <dbl> & <dbl>\\\\\n",
       "\\hline\n",
       "\t1 & AL669831.5 & micro1 & turquoise & 0.21548615 & 0.19759714 &  0.16136541 &  0.12941490 & 0.17119379 & 0.145077531 &  0.046423244\\\\\n",
       "\t3 & INTS11     & micro1 & turquoise & 0.09696439 & 0.09533079 &  0.06297456 &  0.06963743 & 0.06518315 & 0.094385586 &  0.066102929\\\\\n",
       "\t5 & SLC35E2B   & micro1 & turquoise & 0.12806585 & 0.12348601 &  0.09901677 &  0.05368261 & 0.11732960 & 0.067810146 &  0.027891017\\\\\n",
       "\t7 & SLC35E2A   & micro1 & turquoise & 0.09733040 & 0.12928621 &  0.05753553 &  0.04001120 & 0.08556635 & 0.032732457 & -0.011421935\\\\\n",
       "\t8 & NADK       & micro1 & turquoise & 0.11942740 & 0.16027853 &  0.05077375 &  0.04094430 & 0.09030611 & 0.124785534 &  0.022551881\\\\\n",
       "\t10 & CFAP74     & micro1 & turquoise & 0.07441513 & 0.08557692 &  0.05595365 & -0.01330175 & 0.09994148 & 0.001779519 & -0.029470397\\\\\n",
       "\t13 & MORN1      & micro1 & turquoise & 0.05722561 & 0.06019965 &  0.04808820 &  0.02155694 & 0.08230194 & 0.032214528 & -0.007509752\\\\\n",
       "\t15 & TNFRSF14   & micro1 & turquoise & 0.11220602 & 0.11903512 &  0.07703686 &  0.05483505 & 0.08161141 & 0.094138670 &  0.089482045\\\\\n",
       "\t16 & CEP104     & micro1 & turquoise & 0.10945018 & 0.09528290 &  0.08672772 &  0.06460826 & 0.11559400 & 0.029898061 &  0.048579051\\\\\n",
       "\t17 & KCNAB2     & micro1 & turquoise & 0.15590792 & 0.15803664 &  0.12224532 &  0.08353429 & 0.13793060 & 0.111611566 &  0.060850862\\\\\n",
       "\t25 & RERE       & micro1 & turquoise & 0.43562255 & 0.53197670 &  0.27049260 &  0.18552907 & 0.42436473 & 0.359439936 &  0.057825336\\\\\n",
       "\t28 & H6PD       & micro1 & turquoise & 0.13652492 & 0.16846826 &  0.07491647 &  0.08951089 & 0.08359078 & 0.155954205 &  0.031927470\\\\\n",
       "\t30 & PIK3CD     & micro1 & turquoise & 0.23364749 & 0.23790517 &  0.15650652 &  0.07714088 & 0.23707824 & 0.107266225 &  0.024983806\\\\\n",
       "\t31 & CLSTN1     & micro1 & turquoise & 0.19256744 & 0.17785048 &  0.17095817 &  0.07968406 & 0.17273871 & 0.078678632 &  0.055007122\\\\\n",
       "\t33 & UBE4B      & micro1 & turquoise & 0.24230636 & 0.29931420 &  0.12306091 &  0.07659716 & 0.21023763 & 0.204104827 &  0.013031337\\\\\n",
       "\t34 & KIF1B      & micro1 & turquoise & 0.23043536 & 0.29913384 &  0.09946599 &  0.05905461 & 0.20058339 & 0.210045761 &  0.027433229\\\\\n",
       "\t35 & PGD        & micro1 & turquoise & 0.13532240 & 0.16791688 &  0.06227795 &  0.04811773 & 0.10242900 & 0.119215106 & -0.017416334\\\\\n",
       "\t38 & AGTRAP     & micro1 & turquoise & 0.13188554 & 0.18511258 &  0.05914352 &  0.05065254 & 0.10290259 & 0.129371922 &  0.131779914\\\\\n",
       "\t39 & MTHFR      & micro1 & turquoise & 0.16015170 & 0.19860455 &  0.08083026 &  0.07515972 & 0.12007529 & 0.139944009 &  0.010410128\\\\\n",
       "\t43 & VPS13D     & micro1 & turquoise & 0.35687320 & 0.42527738 &  0.15767974 &  0.20407776 & 0.29832248 & 0.344424959 &  0.055308506\\\\\n",
       "\t44 & DHRS3      & micro1 & turquoise & 0.16350221 & 0.25486897 &  0.06251523 &  0.03000825 & 0.16608318 & 0.155364259 &  0.032402538\\\\\n",
       "\t47 & KAZN       & micro1 & turquoise & 0.08779438 & 0.12073762 &  0.03607001 &  0.01282045 & 0.05937170 & 0.096487192 &  0.025271585\\\\\n",
       "\t48 & TMEM51     & micro1 & turquoise & 0.18997589 & 0.25784166 &  0.08409868 &  0.07510142 & 0.14674903 & 0.189607667 &  0.044483662\\\\\n",
       "\t49 & EFHD2      & micro1 & turquoise & 0.18951202 & 0.20093136 &  0.12406704 &  0.12297063 & 0.16818364 & 0.144385725 &  0.090916986\\\\\n",
       "\t50 & DNAJC16    & micro1 & turquoise & 0.13092964 & 0.13835690 &  0.05497696 &  0.06143518 & 0.09351335 & 0.111207365 &  0.030897163\\\\\n",
       "\t51 & DDI2       & micro1 & turquoise & 0.25907850 & 0.30321260 &  0.11741446 &  0.11467443 & 0.22205642 & 0.204387816 &  0.020307816\\\\\n",
       "\t52 & FBXO42     & micro1 & turquoise & 0.25986320 & 0.27934649 &  0.14453789 &  0.13033428 & 0.22974785 & 0.170592288 &  0.046293957\\\\\n",
       "\t56 & PADI2      & micro1 & turquoise & 0.15048772 & 0.33450619 & -0.03887293 & -0.05375943 & 0.12687762 & 0.221745535 & -0.042848264\\\\\n",
       "\t57 & RCC2       & micro1 & turquoise & 0.24727247 & 0.24645001 &  0.13957419 &  0.14210561 & 0.20043373 & 0.211033782 &  0.051332449\\\\\n",
       "\t59 & IGSF21     & micro1 & turquoise & 0.40486778 & 0.44932765 &  0.28119419 &  0.18522344 & 0.40349531 & 0.286026841 &  0.051257327\\\\\n",
       "\t⋮ & ⋮ & ⋮ & ⋮ & ⋮ & ⋮ & ⋮ & ⋮ & ⋮ & ⋮ & ⋮\\\\\n",
       "\t4762 & MIR99AHG   & micro1 & turquoise & 0.3528514 & 0.48255153 & 0.150328810 & 0.122550584 & 0.32997721 & 0.34625163 &  0.04883799\\\\\n",
       "\t4767 & GABPA      & micro1 & turquoise & 0.1364129 & 0.16446132 & 0.105397401 & 0.058472224 & 0.13497340 & 0.11491658 &  0.05322289\\\\\n",
       "\t4770 & TIAM1      & micro1 & turquoise & 0.2553980 & 0.32182755 & 0.134352167 & 0.092057793 & 0.26097872 & 0.18332575 & -0.00251357\\\\\n",
       "\t4774 & IFNGR2     & micro1 & turquoise & 0.3523665 & 0.38307850 & 0.218886252 & 0.212393661 & 0.30229108 & 0.31715935 &  0.12014015\\\\\n",
       "\t4776 & ITSN1      & micro1 & turquoise & 0.2166923 & 0.30625463 & 0.089799031 & 0.061666788 & 0.17277011 & 0.19741328 &  0.03961549\\\\\n",
       "\t4778 & HLCS       & micro1 & turquoise & 0.1834685 & 0.19509982 & 0.117795077 & 0.089741536 & 0.15419297 & 0.14008249 &  0.03503194\\\\\n",
       "\t4779 & TTC3       & micro1 & turquoise & 0.3542885 & 0.30974598 & 0.301785151 & 0.192835925 & 0.33869077 & 0.20327215 &  0.15116387\\\\\n",
       "\t4781 & AP001043.1 & micro1 & turquoise & 0.1023948 & 0.16445981 & 0.018356744 & 0.064741315 & 0.07064073 & 0.15953202 &  0.04469136\\\\\n",
       "\t4782 & BRWD1      & micro1 & turquoise & 0.3673038 & 0.44998002 & 0.199149934 & 0.178997186 & 0.30422071 & 0.32558156 &  0.07037184\\\\\n",
       "\t4786 & ABCG1      & micro1 & turquoise & 0.1562165 & 0.24251143 & 0.002564399 & 0.058176978 & 0.09539506 & 0.21347364 &  0.01374183\\\\\n",
       "\t4787 & SLC37A1    & micro1 & turquoise & 0.2091142 & 0.21276236 & 0.129977614 & 0.113684532 & 0.20744524 & 0.14640065 &  0.05954010\\\\\n",
       "\t4788 & PDE9A      & micro1 & turquoise & 0.1214303 & 0.18405545 & 0.036729215 & 0.017189305 & 0.11334874 & 0.11847406 & -0.04604579\\\\\n",
       "\t4794 & PFKL       & micro1 & turquoise & 0.1658633 & 0.18477283 & 0.127155293 & 0.103088229 & 0.14505528 & 0.15143693 &  0.09652115\\\\\n",
       "\t4800 & SLC19A1    & micro1 & turquoise & 0.1550554 & 0.14369699 & 0.142118163 & 0.077131031 & 0.14214734 & 0.09421733 &  0.09276885\\\\\n",
       "\t4801 & PCBP3      & micro1 & turquoise & 0.1127911 & 0.08581055 & 0.100706331 & 0.043611625 & 0.11000255 & 0.04247622 &  0.01426459\\\\\n",
       "\t4802 & MCM3AP     & micro1 & turquoise & 0.2271169 & 0.23079567 & 0.164287483 & 0.113890718 & 0.20667705 & 0.16529264 &  0.06091519\\\\\n",
       "\t4803 & PCNT       & micro1 & turquoise & 0.1456476 & 0.13755716 & 0.113870886 & 0.052590234 & 0.13318620 & 0.06806803 &  0.04381837\\\\\n",
       "\t4804 & DIP2A      & micro1 & turquoise & 0.2782148 & 0.30832423 & 0.197714575 & 0.122483904 & 0.26451442 & 0.20337252 &  0.03830346\\\\\n",
       "\t4806 & MT-ND1     & micro1 & turquoise & 0.2426464 & 0.30508059 & 0.177048166 & 0.039509455 & 0.20233277 & 0.16889559 &  0.16868477\\\\\n",
       "\t4807 & MT-ND2     & micro1 & turquoise & 0.2207383 & 0.30145703 & 0.145814320 & 0.010562289 & 0.18261490 & 0.15415791 &  0.16205995\\\\\n",
       "\t4808 & MT-CO1     & micro1 & turquoise & 0.2490520 & 0.21573860 & 0.314747133 & 0.063496772 & 0.27228587 & 0.07715693 &  0.18231262\\\\\n",
       "\t4809 & MT-CO2     & micro1 & turquoise & 0.2764727 & 0.32367944 & 0.233543397 & 0.030508135 & 0.25823619 & 0.14050101 &  0.18503601\\\\\n",
       "\t4810 & MT-ATP6    & micro1 & turquoise & 0.2690035 & 0.29850660 & 0.267459401 & 0.055693453 & 0.26238819 & 0.13735902 &  0.21020559\\\\\n",
       "\t4811 & MT-CO3     & micro1 & turquoise & 0.2809054 & 0.35067268 & 0.210664388 & 0.039067134 & 0.24915590 & 0.16658994 &  0.18161486\\\\\n",
       "\t4812 & MT-ND3     & micro1 & turquoise & 0.2381362 & 0.35680890 & 0.114291709 & 0.016936499 & 0.18776619 & 0.19551897 &  0.14030521\\\\\n",
       "\t4813 & MT-ND4L    & micro1 & turquoise & 0.1587491 & 0.23995148 & 0.077743464 & 0.011652773 & 0.12284062 & 0.13769902 &  0.08180354\\\\\n",
       "\t4814 & MT-ND4     & micro1 & turquoise & 0.2404787 & 0.30974468 & 0.211230351 & 0.004315327 & 0.23569875 & 0.13491903 &  0.16465144\\\\\n",
       "\t4815 & MT-ND5     & micro1 & turquoise & 0.2506765 & 0.25428782 & 0.236294841 & 0.058422824 & 0.25705370 & 0.09333635 &  0.12299333\\\\\n",
       "\t4816 & MT-CYB     & micro1 & turquoise & 0.2599586 & 0.29266288 & 0.246401046 & 0.056572794 & 0.24552184 & 0.13942697 &  0.20444788\\\\\n",
       "\t4817 & AL592183.1 & micro1 & turquoise & 0.1891936 & 0.21870166 & 0.114398045 & 0.079336686 & 0.15525697 & 0.15270537 &  0.04226974\\\\\n",
       "\\end{tabular}\n"
      ],
      "text/markdown": [
       "\n",
       "A data.frame: 2476 × 10\n",
       "\n",
       "| <!--/--> | gene_name &lt;chr&gt; | module &lt;chr&gt; | color &lt;chr&gt; | kME_grey &lt;dbl&gt; | kME_micro1 &lt;dbl&gt; | kME_micro2 &lt;dbl&gt; | kME_micro3 &lt;dbl&gt; | kME_micro4 &lt;dbl&gt; | kME_micro5 &lt;dbl&gt; | kME_micro6 &lt;dbl&gt; |\n",
       "|---|---|---|---|---|---|---|---|---|---|---|\n",
       "| 1 | AL669831.5 | micro1 | turquoise | 0.21548615 | 0.19759714 |  0.16136541 |  0.12941490 | 0.17119379 | 0.145077531 |  0.046423244 |\n",
       "| 3 | INTS11     | micro1 | turquoise | 0.09696439 | 0.09533079 |  0.06297456 |  0.06963743 | 0.06518315 | 0.094385586 |  0.066102929 |\n",
       "| 5 | SLC35E2B   | micro1 | turquoise | 0.12806585 | 0.12348601 |  0.09901677 |  0.05368261 | 0.11732960 | 0.067810146 |  0.027891017 |\n",
       "| 7 | SLC35E2A   | micro1 | turquoise | 0.09733040 | 0.12928621 |  0.05753553 |  0.04001120 | 0.08556635 | 0.032732457 | -0.011421935 |\n",
       "| 8 | NADK       | micro1 | turquoise | 0.11942740 | 0.16027853 |  0.05077375 |  0.04094430 | 0.09030611 | 0.124785534 |  0.022551881 |\n",
       "| 10 | CFAP74     | micro1 | turquoise | 0.07441513 | 0.08557692 |  0.05595365 | -0.01330175 | 0.09994148 | 0.001779519 | -0.029470397 |\n",
       "| 13 | MORN1      | micro1 | turquoise | 0.05722561 | 0.06019965 |  0.04808820 |  0.02155694 | 0.08230194 | 0.032214528 | -0.007509752 |\n",
       "| 15 | TNFRSF14   | micro1 | turquoise | 0.11220602 | 0.11903512 |  0.07703686 |  0.05483505 | 0.08161141 | 0.094138670 |  0.089482045 |\n",
       "| 16 | CEP104     | micro1 | turquoise | 0.10945018 | 0.09528290 |  0.08672772 |  0.06460826 | 0.11559400 | 0.029898061 |  0.048579051 |\n",
       "| 17 | KCNAB2     | micro1 | turquoise | 0.15590792 | 0.15803664 |  0.12224532 |  0.08353429 | 0.13793060 | 0.111611566 |  0.060850862 |\n",
       "| 25 | RERE       | micro1 | turquoise | 0.43562255 | 0.53197670 |  0.27049260 |  0.18552907 | 0.42436473 | 0.359439936 |  0.057825336 |\n",
       "| 28 | H6PD       | micro1 | turquoise | 0.13652492 | 0.16846826 |  0.07491647 |  0.08951089 | 0.08359078 | 0.155954205 |  0.031927470 |\n",
       "| 30 | PIK3CD     | micro1 | turquoise | 0.23364749 | 0.23790517 |  0.15650652 |  0.07714088 | 0.23707824 | 0.107266225 |  0.024983806 |\n",
       "| 31 | CLSTN1     | micro1 | turquoise | 0.19256744 | 0.17785048 |  0.17095817 |  0.07968406 | 0.17273871 | 0.078678632 |  0.055007122 |\n",
       "| 33 | UBE4B      | micro1 | turquoise | 0.24230636 | 0.29931420 |  0.12306091 |  0.07659716 | 0.21023763 | 0.204104827 |  0.013031337 |\n",
       "| 34 | KIF1B      | micro1 | turquoise | 0.23043536 | 0.29913384 |  0.09946599 |  0.05905461 | 0.20058339 | 0.210045761 |  0.027433229 |\n",
       "| 35 | PGD        | micro1 | turquoise | 0.13532240 | 0.16791688 |  0.06227795 |  0.04811773 | 0.10242900 | 0.119215106 | -0.017416334 |\n",
       "| 38 | AGTRAP     | micro1 | turquoise | 0.13188554 | 0.18511258 |  0.05914352 |  0.05065254 | 0.10290259 | 0.129371922 |  0.131779914 |\n",
       "| 39 | MTHFR      | micro1 | turquoise | 0.16015170 | 0.19860455 |  0.08083026 |  0.07515972 | 0.12007529 | 0.139944009 |  0.010410128 |\n",
       "| 43 | VPS13D     | micro1 | turquoise | 0.35687320 | 0.42527738 |  0.15767974 |  0.20407776 | 0.29832248 | 0.344424959 |  0.055308506 |\n",
       "| 44 | DHRS3      | micro1 | turquoise | 0.16350221 | 0.25486897 |  0.06251523 |  0.03000825 | 0.16608318 | 0.155364259 |  0.032402538 |\n",
       "| 47 | KAZN       | micro1 | turquoise | 0.08779438 | 0.12073762 |  0.03607001 |  0.01282045 | 0.05937170 | 0.096487192 |  0.025271585 |\n",
       "| 48 | TMEM51     | micro1 | turquoise | 0.18997589 | 0.25784166 |  0.08409868 |  0.07510142 | 0.14674903 | 0.189607667 |  0.044483662 |\n",
       "| 49 | EFHD2      | micro1 | turquoise | 0.18951202 | 0.20093136 |  0.12406704 |  0.12297063 | 0.16818364 | 0.144385725 |  0.090916986 |\n",
       "| 50 | DNAJC16    | micro1 | turquoise | 0.13092964 | 0.13835690 |  0.05497696 |  0.06143518 | 0.09351335 | 0.111207365 |  0.030897163 |\n",
       "| 51 | DDI2       | micro1 | turquoise | 0.25907850 | 0.30321260 |  0.11741446 |  0.11467443 | 0.22205642 | 0.204387816 |  0.020307816 |\n",
       "| 52 | FBXO42     | micro1 | turquoise | 0.25986320 | 0.27934649 |  0.14453789 |  0.13033428 | 0.22974785 | 0.170592288 |  0.046293957 |\n",
       "| 56 | PADI2      | micro1 | turquoise | 0.15048772 | 0.33450619 | -0.03887293 | -0.05375943 | 0.12687762 | 0.221745535 | -0.042848264 |\n",
       "| 57 | RCC2       | micro1 | turquoise | 0.24727247 | 0.24645001 |  0.13957419 |  0.14210561 | 0.20043373 | 0.211033782 |  0.051332449 |\n",
       "| 59 | IGSF21     | micro1 | turquoise | 0.40486778 | 0.44932765 |  0.28119419 |  0.18522344 | 0.40349531 | 0.286026841 |  0.051257327 |\n",
       "| ⋮ | ⋮ | ⋮ | ⋮ | ⋮ | ⋮ | ⋮ | ⋮ | ⋮ | ⋮ | ⋮ |\n",
       "| 4762 | MIR99AHG   | micro1 | turquoise | 0.3528514 | 0.48255153 | 0.150328810 | 0.122550584 | 0.32997721 | 0.34625163 |  0.04883799 |\n",
       "| 4767 | GABPA      | micro1 | turquoise | 0.1364129 | 0.16446132 | 0.105397401 | 0.058472224 | 0.13497340 | 0.11491658 |  0.05322289 |\n",
       "| 4770 | TIAM1      | micro1 | turquoise | 0.2553980 | 0.32182755 | 0.134352167 | 0.092057793 | 0.26097872 | 0.18332575 | -0.00251357 |\n",
       "| 4774 | IFNGR2     | micro1 | turquoise | 0.3523665 | 0.38307850 | 0.218886252 | 0.212393661 | 0.30229108 | 0.31715935 |  0.12014015 |\n",
       "| 4776 | ITSN1      | micro1 | turquoise | 0.2166923 | 0.30625463 | 0.089799031 | 0.061666788 | 0.17277011 | 0.19741328 |  0.03961549 |\n",
       "| 4778 | HLCS       | micro1 | turquoise | 0.1834685 | 0.19509982 | 0.117795077 | 0.089741536 | 0.15419297 | 0.14008249 |  0.03503194 |\n",
       "| 4779 | TTC3       | micro1 | turquoise | 0.3542885 | 0.30974598 | 0.301785151 | 0.192835925 | 0.33869077 | 0.20327215 |  0.15116387 |\n",
       "| 4781 | AP001043.1 | micro1 | turquoise | 0.1023948 | 0.16445981 | 0.018356744 | 0.064741315 | 0.07064073 | 0.15953202 |  0.04469136 |\n",
       "| 4782 | BRWD1      | micro1 | turquoise | 0.3673038 | 0.44998002 | 0.199149934 | 0.178997186 | 0.30422071 | 0.32558156 |  0.07037184 |\n",
       "| 4786 | ABCG1      | micro1 | turquoise | 0.1562165 | 0.24251143 | 0.002564399 | 0.058176978 | 0.09539506 | 0.21347364 |  0.01374183 |\n",
       "| 4787 | SLC37A1    | micro1 | turquoise | 0.2091142 | 0.21276236 | 0.129977614 | 0.113684532 | 0.20744524 | 0.14640065 |  0.05954010 |\n",
       "| 4788 | PDE9A      | micro1 | turquoise | 0.1214303 | 0.18405545 | 0.036729215 | 0.017189305 | 0.11334874 | 0.11847406 | -0.04604579 |\n",
       "| 4794 | PFKL       | micro1 | turquoise | 0.1658633 | 0.18477283 | 0.127155293 | 0.103088229 | 0.14505528 | 0.15143693 |  0.09652115 |\n",
       "| 4800 | SLC19A1    | micro1 | turquoise | 0.1550554 | 0.14369699 | 0.142118163 | 0.077131031 | 0.14214734 | 0.09421733 |  0.09276885 |\n",
       "| 4801 | PCBP3      | micro1 | turquoise | 0.1127911 | 0.08581055 | 0.100706331 | 0.043611625 | 0.11000255 | 0.04247622 |  0.01426459 |\n",
       "| 4802 | MCM3AP     | micro1 | turquoise | 0.2271169 | 0.23079567 | 0.164287483 | 0.113890718 | 0.20667705 | 0.16529264 |  0.06091519 |\n",
       "| 4803 | PCNT       | micro1 | turquoise | 0.1456476 | 0.13755716 | 0.113870886 | 0.052590234 | 0.13318620 | 0.06806803 |  0.04381837 |\n",
       "| 4804 | DIP2A      | micro1 | turquoise | 0.2782148 | 0.30832423 | 0.197714575 | 0.122483904 | 0.26451442 | 0.20337252 |  0.03830346 |\n",
       "| 4806 | MT-ND1     | micro1 | turquoise | 0.2426464 | 0.30508059 | 0.177048166 | 0.039509455 | 0.20233277 | 0.16889559 |  0.16868477 |\n",
       "| 4807 | MT-ND2     | micro1 | turquoise | 0.2207383 | 0.30145703 | 0.145814320 | 0.010562289 | 0.18261490 | 0.15415791 |  0.16205995 |\n",
       "| 4808 | MT-CO1     | micro1 | turquoise | 0.2490520 | 0.21573860 | 0.314747133 | 0.063496772 | 0.27228587 | 0.07715693 |  0.18231262 |\n",
       "| 4809 | MT-CO2     | micro1 | turquoise | 0.2764727 | 0.32367944 | 0.233543397 | 0.030508135 | 0.25823619 | 0.14050101 |  0.18503601 |\n",
       "| 4810 | MT-ATP6    | micro1 | turquoise | 0.2690035 | 0.29850660 | 0.267459401 | 0.055693453 | 0.26238819 | 0.13735902 |  0.21020559 |\n",
       "| 4811 | MT-CO3     | micro1 | turquoise | 0.2809054 | 0.35067268 | 0.210664388 | 0.039067134 | 0.24915590 | 0.16658994 |  0.18161486 |\n",
       "| 4812 | MT-ND3     | micro1 | turquoise | 0.2381362 | 0.35680890 | 0.114291709 | 0.016936499 | 0.18776619 | 0.19551897 |  0.14030521 |\n",
       "| 4813 | MT-ND4L    | micro1 | turquoise | 0.1587491 | 0.23995148 | 0.077743464 | 0.011652773 | 0.12284062 | 0.13769902 |  0.08180354 |\n",
       "| 4814 | MT-ND4     | micro1 | turquoise | 0.2404787 | 0.30974468 | 0.211230351 | 0.004315327 | 0.23569875 | 0.13491903 |  0.16465144 |\n",
       "| 4815 | MT-ND5     | micro1 | turquoise | 0.2506765 | 0.25428782 | 0.236294841 | 0.058422824 | 0.25705370 | 0.09333635 |  0.12299333 |\n",
       "| 4816 | MT-CYB     | micro1 | turquoise | 0.2599586 | 0.29266288 | 0.246401046 | 0.056572794 | 0.24552184 | 0.13942697 |  0.20444788 |\n",
       "| 4817 | AL592183.1 | micro1 | turquoise | 0.1891936 | 0.21870166 | 0.114398045 | 0.079336686 | 0.15525697 | 0.15270537 |  0.04226974 |\n",
       "\n"
      ],
      "text/plain": [
       "     gene_name  module color     kME_grey   kME_micro1 kME_micro2  kME_micro3 \n",
       "1    AL669831.5 micro1 turquoise 0.21548615 0.19759714  0.16136541  0.12941490\n",
       "3    INTS11     micro1 turquoise 0.09696439 0.09533079  0.06297456  0.06963743\n",
       "5    SLC35E2B   micro1 turquoise 0.12806585 0.12348601  0.09901677  0.05368261\n",
       "7    SLC35E2A   micro1 turquoise 0.09733040 0.12928621  0.05753553  0.04001120\n",
       "8    NADK       micro1 turquoise 0.11942740 0.16027853  0.05077375  0.04094430\n",
       "10   CFAP74     micro1 turquoise 0.07441513 0.08557692  0.05595365 -0.01330175\n",
       "13   MORN1      micro1 turquoise 0.05722561 0.06019965  0.04808820  0.02155694\n",
       "15   TNFRSF14   micro1 turquoise 0.11220602 0.11903512  0.07703686  0.05483505\n",
       "16   CEP104     micro1 turquoise 0.10945018 0.09528290  0.08672772  0.06460826\n",
       "17   KCNAB2     micro1 turquoise 0.15590792 0.15803664  0.12224532  0.08353429\n",
       "25   RERE       micro1 turquoise 0.43562255 0.53197670  0.27049260  0.18552907\n",
       "28   H6PD       micro1 turquoise 0.13652492 0.16846826  0.07491647  0.08951089\n",
       "30   PIK3CD     micro1 turquoise 0.23364749 0.23790517  0.15650652  0.07714088\n",
       "31   CLSTN1     micro1 turquoise 0.19256744 0.17785048  0.17095817  0.07968406\n",
       "33   UBE4B      micro1 turquoise 0.24230636 0.29931420  0.12306091  0.07659716\n",
       "34   KIF1B      micro1 turquoise 0.23043536 0.29913384  0.09946599  0.05905461\n",
       "35   PGD        micro1 turquoise 0.13532240 0.16791688  0.06227795  0.04811773\n",
       "38   AGTRAP     micro1 turquoise 0.13188554 0.18511258  0.05914352  0.05065254\n",
       "39   MTHFR      micro1 turquoise 0.16015170 0.19860455  0.08083026  0.07515972\n",
       "43   VPS13D     micro1 turquoise 0.35687320 0.42527738  0.15767974  0.20407776\n",
       "44   DHRS3      micro1 turquoise 0.16350221 0.25486897  0.06251523  0.03000825\n",
       "47   KAZN       micro1 turquoise 0.08779438 0.12073762  0.03607001  0.01282045\n",
       "48   TMEM51     micro1 turquoise 0.18997589 0.25784166  0.08409868  0.07510142\n",
       "49   EFHD2      micro1 turquoise 0.18951202 0.20093136  0.12406704  0.12297063\n",
       "50   DNAJC16    micro1 turquoise 0.13092964 0.13835690  0.05497696  0.06143518\n",
       "51   DDI2       micro1 turquoise 0.25907850 0.30321260  0.11741446  0.11467443\n",
       "52   FBXO42     micro1 turquoise 0.25986320 0.27934649  0.14453789  0.13033428\n",
       "56   PADI2      micro1 turquoise 0.15048772 0.33450619 -0.03887293 -0.05375943\n",
       "57   RCC2       micro1 turquoise 0.24727247 0.24645001  0.13957419  0.14210561\n",
       "59   IGSF21     micro1 turquoise 0.40486778 0.44932765  0.28119419  0.18522344\n",
       "⋮    ⋮          ⋮      ⋮         ⋮          ⋮          ⋮           ⋮          \n",
       "4762 MIR99AHG   micro1 turquoise 0.3528514  0.48255153 0.150328810 0.122550584\n",
       "4767 GABPA      micro1 turquoise 0.1364129  0.16446132 0.105397401 0.058472224\n",
       "4770 TIAM1      micro1 turquoise 0.2553980  0.32182755 0.134352167 0.092057793\n",
       "4774 IFNGR2     micro1 turquoise 0.3523665  0.38307850 0.218886252 0.212393661\n",
       "4776 ITSN1      micro1 turquoise 0.2166923  0.30625463 0.089799031 0.061666788\n",
       "4778 HLCS       micro1 turquoise 0.1834685  0.19509982 0.117795077 0.089741536\n",
       "4779 TTC3       micro1 turquoise 0.3542885  0.30974598 0.301785151 0.192835925\n",
       "4781 AP001043.1 micro1 turquoise 0.1023948  0.16445981 0.018356744 0.064741315\n",
       "4782 BRWD1      micro1 turquoise 0.3673038  0.44998002 0.199149934 0.178997186\n",
       "4786 ABCG1      micro1 turquoise 0.1562165  0.24251143 0.002564399 0.058176978\n",
       "4787 SLC37A1    micro1 turquoise 0.2091142  0.21276236 0.129977614 0.113684532\n",
       "4788 PDE9A      micro1 turquoise 0.1214303  0.18405545 0.036729215 0.017189305\n",
       "4794 PFKL       micro1 turquoise 0.1658633  0.18477283 0.127155293 0.103088229\n",
       "4800 SLC19A1    micro1 turquoise 0.1550554  0.14369699 0.142118163 0.077131031\n",
       "4801 PCBP3      micro1 turquoise 0.1127911  0.08581055 0.100706331 0.043611625\n",
       "4802 MCM3AP     micro1 turquoise 0.2271169  0.23079567 0.164287483 0.113890718\n",
       "4803 PCNT       micro1 turquoise 0.1456476  0.13755716 0.113870886 0.052590234\n",
       "4804 DIP2A      micro1 turquoise 0.2782148  0.30832423 0.197714575 0.122483904\n",
       "4806 MT-ND1     micro1 turquoise 0.2426464  0.30508059 0.177048166 0.039509455\n",
       "4807 MT-ND2     micro1 turquoise 0.2207383  0.30145703 0.145814320 0.010562289\n",
       "4808 MT-CO1     micro1 turquoise 0.2490520  0.21573860 0.314747133 0.063496772\n",
       "4809 MT-CO2     micro1 turquoise 0.2764727  0.32367944 0.233543397 0.030508135\n",
       "4810 MT-ATP6    micro1 turquoise 0.2690035  0.29850660 0.267459401 0.055693453\n",
       "4811 MT-CO3     micro1 turquoise 0.2809054  0.35067268 0.210664388 0.039067134\n",
       "4812 MT-ND3     micro1 turquoise 0.2381362  0.35680890 0.114291709 0.016936499\n",
       "4813 MT-ND4L    micro1 turquoise 0.1587491  0.23995148 0.077743464 0.011652773\n",
       "4814 MT-ND4     micro1 turquoise 0.2404787  0.30974468 0.211230351 0.004315327\n",
       "4815 MT-ND5     micro1 turquoise 0.2506765  0.25428782 0.236294841 0.058422824\n",
       "4816 MT-CYB     micro1 turquoise 0.2599586  0.29266288 0.246401046 0.056572794\n",
       "4817 AL592183.1 micro1 turquoise 0.1891936  0.21870166 0.114398045 0.079336686\n",
       "     kME_micro4 kME_micro5  kME_micro6  \n",
       "1    0.17119379 0.145077531  0.046423244\n",
       "3    0.06518315 0.094385586  0.066102929\n",
       "5    0.11732960 0.067810146  0.027891017\n",
       "7    0.08556635 0.032732457 -0.011421935\n",
       "8    0.09030611 0.124785534  0.022551881\n",
       "10   0.09994148 0.001779519 -0.029470397\n",
       "13   0.08230194 0.032214528 -0.007509752\n",
       "15   0.08161141 0.094138670  0.089482045\n",
       "16   0.11559400 0.029898061  0.048579051\n",
       "17   0.13793060 0.111611566  0.060850862\n",
       "25   0.42436473 0.359439936  0.057825336\n",
       "28   0.08359078 0.155954205  0.031927470\n",
       "30   0.23707824 0.107266225  0.024983806\n",
       "31   0.17273871 0.078678632  0.055007122\n",
       "33   0.21023763 0.204104827  0.013031337\n",
       "34   0.20058339 0.210045761  0.027433229\n",
       "35   0.10242900 0.119215106 -0.017416334\n",
       "38   0.10290259 0.129371922  0.131779914\n",
       "39   0.12007529 0.139944009  0.010410128\n",
       "43   0.29832248 0.344424959  0.055308506\n",
       "44   0.16608318 0.155364259  0.032402538\n",
       "47   0.05937170 0.096487192  0.025271585\n",
       "48   0.14674903 0.189607667  0.044483662\n",
       "49   0.16818364 0.144385725  0.090916986\n",
       "50   0.09351335 0.111207365  0.030897163\n",
       "51   0.22205642 0.204387816  0.020307816\n",
       "52   0.22974785 0.170592288  0.046293957\n",
       "56   0.12687762 0.221745535 -0.042848264\n",
       "57   0.20043373 0.211033782  0.051332449\n",
       "59   0.40349531 0.286026841  0.051257327\n",
       "⋮    ⋮          ⋮           ⋮           \n",
       "4762 0.32997721 0.34625163   0.04883799 \n",
       "4767 0.13497340 0.11491658   0.05322289 \n",
       "4770 0.26097872 0.18332575  -0.00251357 \n",
       "4774 0.30229108 0.31715935   0.12014015 \n",
       "4776 0.17277011 0.19741328   0.03961549 \n",
       "4778 0.15419297 0.14008249   0.03503194 \n",
       "4779 0.33869077 0.20327215   0.15116387 \n",
       "4781 0.07064073 0.15953202   0.04469136 \n",
       "4782 0.30422071 0.32558156   0.07037184 \n",
       "4786 0.09539506 0.21347364   0.01374183 \n",
       "4787 0.20744524 0.14640065   0.05954010 \n",
       "4788 0.11334874 0.11847406  -0.04604579 \n",
       "4794 0.14505528 0.15143693   0.09652115 \n",
       "4800 0.14214734 0.09421733   0.09276885 \n",
       "4801 0.11000255 0.04247622   0.01426459 \n",
       "4802 0.20667705 0.16529264   0.06091519 \n",
       "4803 0.13318620 0.06806803   0.04381837 \n",
       "4804 0.26451442 0.20337252   0.03830346 \n",
       "4806 0.20233277 0.16889559   0.16868477 \n",
       "4807 0.18261490 0.15415791   0.16205995 \n",
       "4808 0.27228587 0.07715693   0.18231262 \n",
       "4809 0.25823619 0.14050101   0.18503601 \n",
       "4810 0.26238819 0.13735902   0.21020559 \n",
       "4811 0.24915590 0.16658994   0.18161486 \n",
       "4812 0.18776619 0.19551897   0.14030521 \n",
       "4813 0.12284062 0.13769902   0.08180354 \n",
       "4814 0.23569875 0.13491903   0.16465144 \n",
       "4815 0.25705370 0.09333635   0.12299333 \n",
       "4816 0.24552184 0.13942697   0.20444788 \n",
       "4817 0.15525697 0.15270537   0.04226974 "
      ]
     },
     "metadata": {},
     "output_type": "display_data"
    }
   ],
   "source": [
    "# Extracting the genes assigned to the same module PSEN1 is in"
   ]
  },
  {
   "cell_type": "code",
   "execution_count": null,
   "id": "ad3690db-42d7-4205-962a-363c80a45e45",
   "metadata": {},
   "outputs": [],
   "source": [
    "module_genes <- modules$gene_name"
   ]
  },
  {
   "cell_type": "code",
   "execution_count": null,
   "id": "dcfc81a0-d327-4124-b058-b1b2e08acf28",
   "metadata": {},
   "outputs": [],
   "source": [
    "modules_genes"
   ]
  },
  {
   "cell_type": "code",
   "execution_count": 30,
   "id": "4b539bde-e10a-4bb6-afaa-87db278b3dfb",
   "metadata": {},
   "outputs": [],
   "source": [
    "# Finding the intersection"
   ]
  },
  {
   "cell_type": "code",
   "execution_count": 38,
   "id": "76afa01a-9542-4932-a302-e904162edcfa",
   "metadata": {},
   "outputs": [],
   "source": [
    "intersect_genes <- intersect(human_genes,module_genes)"
   ]
  },
  {
   "cell_type": "code",
   "execution_count": 39,
   "id": "cd0df941-300d-4544-a670-f686a7f7ea26",
   "metadata": {},
   "outputs": [
    {
     "data": {
      "text/html": [
       "<style>\n",
       ".list-inline {list-style: none; margin:0; padding: 0}\n",
       ".list-inline>li {display: inline-block}\n",
       ".list-inline>li:not(:last-child)::after {content: \"\\00b7\"; padding: 0 .5ex}\n",
       "</style>\n",
       "<ol class=list-inline><li>'CD99'</li><li>'PLXDC2'</li><li>'GLG1'</li><li>'AXL'</li><li>'SORCS1'</li><li>'CXCL16'</li><li>'ACP2'</li><li>'IL6R'</li><li>'F11R'</li></ol>\n"
      ],
      "text/latex": [
       "\\begin{enumerate*}\n",
       "\\item 'CD99'\n",
       "\\item 'PLXDC2'\n",
       "\\item 'GLG1'\n",
       "\\item 'AXL'\n",
       "\\item 'SORCS1'\n",
       "\\item 'CXCL16'\n",
       "\\item 'ACP2'\n",
       "\\item 'IL6R'\n",
       "\\item 'F11R'\n",
       "\\end{enumerate*}\n"
      ],
      "text/markdown": [
       "1. 'CD99'\n",
       "2. 'PLXDC2'\n",
       "3. 'GLG1'\n",
       "4. 'AXL'\n",
       "5. 'SORCS1'\n",
       "6. 'CXCL16'\n",
       "7. 'ACP2'\n",
       "8. 'IL6R'\n",
       "9. 'F11R'\n",
       "\n",
       "\n"
      ],
      "text/plain": [
       "[1] \"CD99\"   \"PLXDC2\" \"GLG1\"   \"AXL\"    \"SORCS1\" \"CXCL16\" \"ACP2\"   \"IL6R\"  \n",
       "[9] \"F11R\"  "
      ]
     },
     "metadata": {},
     "output_type": "display_data"
    }
   ],
   "source": [
    "intersect_genes"
   ]
  },
  {
   "cell_type": "code",
   "execution_count": null,
   "id": "d5f597f5-3383-444d-9e18-bab2abb3d053",
   "metadata": {},
   "outputs": [],
   "source": []
  }
 ],
 "metadata": {
  "kernelspec": {
   "display_name": "R",
   "language": "R",
   "name": "ir"
  },
  "language_info": {
   "codemirror_mode": "r",
   "file_extension": ".r",
   "mimetype": "text/x-r-source",
   "name": "R",
   "pygments_lexer": "r",
   "version": "4.3.3"
  }
 },
 "nbformat": 4,
 "nbformat_minor": 5
}
